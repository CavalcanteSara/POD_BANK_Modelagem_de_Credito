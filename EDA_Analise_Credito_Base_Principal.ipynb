{
  "nbformat": 4,
  "nbformat_minor": 0,
  "metadata": {
    "colab": {
      "provenance": []
    },
    "kernelspec": {
      "name": "python3",
      "display_name": "Python 3"
    },
    "language_info": {
      "name": "python"
    }
  },
  "cells": [
    {
      "cell_type": "markdown",
      "source": [
        "\n",
        "##Objetivo\n",
        "\n",
        "\n",
        "O Objetivo desta análise exploratória dos dados (EDA) é entender melhor a base de clientes, identificar os padrões e tendências.\n",
        "Através do EDA, podemos conhecer melhor a base de dados, tornando o processo de modelagem de crédito mais eficaz, contribuindo com o time de negocios na tomada de decisões.\n",
        "\n",
        "\n"
      ],
      "metadata": {
        "id": "hw8wuUrbbZ04"
      }
    },
    {
      "cell_type": "markdown",
      "source": [
        "\n",
        "\n",
        "## Case\n",
        "POD Bank uma startup do setor financeiro que tem como núcleo de negócio crédito para as pessoas denominadas “Thin Files” ou traduzindo “pessoas sem informação de crédito”, esses indivíduos geralmente não usam o crédito regularmente e, portanto, não possuem um histórico de crédito. Segundo uma pesquisa realizada pela Serasa Experian, 35,3 milhões de brasileiros sem registros financeiros, isto é, 21,7% da população adulta, isso não significa que essas pessoas não têm dinheiro ou que não são boas pagadoras, muitas vezes pague tudo no subsídio ou tenha toda a parte de crédito no nome de algum familiar.\n",
        "\n",
        "##Desafio do Projeto\n",
        "Olhando este público, o POD Bank ganhou maturidade e crescimento em sua base de clientes, porém o Head de crédito está preocupado, pois embora a empresa esteja em crescimento, a inadimplência do mercado também está aumentando. **Portanto nosso desafio neste projeto é construir um modelo de crédito capaz de gerar uma pontuação de risco na contratação de seus produtos de crédito.**\n",
        "\n",
        "##Foco do Projeto\n",
        "O foco deste projeto é propor uma solução para um problema de negócio baseado em 3 pilares:\n",
        "\n",
        "1- Aumento de faturamento\n",
        "\n",
        "2- Redução de Custos\n",
        "\n",
        "3- Melhoria na qualidade de vida das pessoas\n",
        "\n",
        "Este projeto tem como finalidade construir um modelo de crédito capaz de gerar uma pontuação de risco na contratação de seus produtos de crédito.\n",
        "\n",
        "---\n",
        "\n",
        "\n"
      ],
      "metadata": {
        "id": "PzUyt7TdfmgF"
      }
    },
    {
      "cell_type": "markdown",
      "metadata": {
        "id": "8DxqGrf5-N9J"
      },
      "source": [
        "## Configuração do Ambiente\n",
        "\n",
        "\n",
        "Neste projeto,foram utilizadas algumas bibliotecas e ferramentas para processamento dos dados:\n",
        "\n",
        " **Apache Spark:**  É uma ferramenta para processamento de dados em grande escala,tem como vantagem a velocidade na execução de carga e de fácil manuseio.\n",
        "\n",
        "**Pacotes Instalados:**\n",
        "\n",
        "\n",
        "\n",
        "- PySpark: É a interface Python para interagir com o Apache Spark, realizando\n",
        "e otimizando processamento de dados em larga escala.\n",
        "- Pandas e NumPy: Bibliotecas utilizadas no ETL da base.\n",
        "- Matplotlib e Seaborn: Utilização de recursos graficos para geração de insights da base.\n",
        "\n",
        "Após as intalações, criei uma sessão Spark utilizando a classe SparkSession, passo essencial para poder interagir e executar o processamento de dados no ambiente Spark.\n",
        "\n",
        "\n"
      ]
    },
    {
      "cell_type": "code",
      "source": [
        "import pandas as pd\n",
        "import numpy as np\n",
        "import seaborn as sns\n",
        "import matplotlib.pyplot as plt"
      ],
      "metadata": {
        "id": "yoejJQgJrpTN"
      },
      "execution_count": 1,
      "outputs": []
    },
    {
      "cell_type": "code",
      "source": [
        "!pip install -q pyspark\n",
        "\n",
        "#Criando a Sessão com o SparkSession\n",
        "\n",
        "from pyspark.sql import SparkSession\n",
        "\n",
        "spark = SparkSession \\\n",
        "    .builder \\\n",
        "    .appName(\"EDA - CREDITO-BASE\") \\\n",
        "    .config('spark.ui.port', '4050') \\\n",
        "    .getOrCreate()\n",
        "\n",
        "spark"
      ],
      "metadata": {
        "colab": {
          "base_uri": "https://localhost:8080/",
          "height": 277
        },
        "id": "D5rI34f8rvW_",
        "outputId": "a4671602-e135-47c8-86c0-ad434f26cddc"
      },
      "execution_count": 2,
      "outputs": [
        {
          "output_type": "stream",
          "name": "stdout",
          "text": [
            "\u001b[2K     \u001b[90m━━━━━━━━━━━━━━━━━━━━━━━━━━━━━━━━━━━━━━━━\u001b[0m \u001b[32m317.0/317.0 MB\u001b[0m \u001b[31m3.0 MB/s\u001b[0m eta \u001b[36m0:00:00\u001b[0m\n",
            "\u001b[?25h  Preparing metadata (setup.py) ... \u001b[?25l\u001b[?25hdone\n",
            "  Building wheel for pyspark (setup.py) ... \u001b[?25l\u001b[?25hdone\n"
          ]
        },
        {
          "output_type": "execute_result",
          "data": {
            "text/plain": [
              "<pyspark.sql.session.SparkSession at 0x7a49a3eddff0>"
            ],
            "text/html": [
              "\n",
              "            <div>\n",
              "                <p><b>SparkSession - in-memory</b></p>\n",
              "                \n",
              "        <div>\n",
              "            <p><b>SparkContext</b></p>\n",
              "\n",
              "            <p><a href=\"http://940331f97e3b:4050\">Spark UI</a></p>\n",
              "\n",
              "            <dl>\n",
              "              <dt>Version</dt>\n",
              "                <dd><code>v3.5.1</code></dd>\n",
              "              <dt>Master</dt>\n",
              "                <dd><code>local[*]</code></dd>\n",
              "              <dt>AppName</dt>\n",
              "                <dd><code>EDA - CREDITO-BASE</code></dd>\n",
              "            </dl>\n",
              "        </div>\n",
              "        \n",
              "            </div>\n",
              "        "
            ]
          },
          "metadata": {},
          "execution_count": 2
        }
      ]
    },
    {
      "cell_type": "markdown",
      "source": [
        "##Leitura do Dataset em Spark e Pandas."
      ],
      "metadata": {
        "id": "EIW-Zms9d_20"
      }
    },
    {
      "cell_type": "code",
      "execution_count": 3,
      "metadata": {
        "id": "IRhmWaj9HwwE"
      },
      "outputs": [],
      "source": [
        "df_application_train = spark.read.csv ('/content/drive/MyDrive/0000- EBA/POD/Projeto 01/application_train.csv', header=True, inferSchema=True)\n",
        "df_application_train.createOrReplaceTempView(\"df_application_train\")"
      ]
    },
    {
      "cell_type": "code",
      "source": [
        "df_application_train = ('/content/drive/MyDrive/0000- EBA/POD/Projeto 01/application_train.csv')\n",
        "df_application_train = pd.read_csv(df_application_train,sep = ',')"
      ],
      "metadata": {
        "id": "8yfLOXNROjHi"
      },
      "execution_count": 4,
      "outputs": []
    },
    {
      "cell_type": "markdown",
      "metadata": {
        "id": "m5peDdQgFY5t"
      },
      "source": [
        "## Dicionário dos Dados"
      ]
    },
    {
      "cell_type": "markdown",
      "metadata": {
        "id": "It-xQWka63xC"
      },
      "source": [
        "`SK_ID_CURR` : ID do empréstimo na nossa amostra\n",
        "\n",
        "`TARGET` : Variável alvo (1 - cliente com dificuldades de pagamento: ele/ela teve atraso de pagamento por mais de X dias em pelo menos uma das primeiras Y parcelas do empréstimo em nossa amostra, 0 - todos os outros casos)\n",
        "\n",
        "`NAME_CONTRACT_TYPE` : Identificação se o empréstimo é em dinheiro ou rotativo\n",
        "\n",
        "`CODE_GENDER` : Gênero do cliente\n",
        "\n",
        "`FLAG_OWN_CAR` : Sinalizador se o cliente possui um carro\n",
        "\n",
        "`FLAG_OWN_REALTY` : Sinalizador se o cliente possui uma casa ou apartamento\n",
        "\n",
        "`CNT_CHILDREN` : Número de filhos que o cliente tem\n",
        "\n",
        "`AMT_INCOME_TOTAL` : Renda do cliente\n",
        "\n",
        "`AMT_CREDIT` : Valor do crédito do empréstimo\n",
        "\n",
        "`AMT_ANNUITY` : Anuidade do empréstimo\n",
        "\n",
        "`AMT_GOODS_PRICE` : Para empréstimos ao consumidor, é o preço dos bens para os quais o empréstimo é concedido\n",
        "\n",
        "`NAME_TYPE_SUITE` : Quem acompanhava o cliente quando ele solicitou o empréstimo\n",
        "\n",
        "`NAME_INCOME_TYPE` : Tipo de renda dos clientes (empresário, trabalhador, licença maternidade, ...)\n",
        "\n",
        "`NAME_EDUCATION_TYPE` : Nível de educação mais alto que o cliente alcançou\n",
        "\n",
        "`NAME_FAMILY_STATUS` : Estado civil do cliente\n",
        "\n",
        "`NAME_HOUSING_TYPE`  : Qual é a situação habitacional do cliente (alugando, morando com os pais, ...)\n",
        "\n",
        "`REGION_POPULATION_RELATIVE` : População normalizada da região onde o cliente mora (número mais alto significa que o cliente mora em uma região mais populosa)\n",
        "\n",
        "`DAYS_BIRTH` : Idade do cliente em dias no momento da aplicação\n",
        "\n",
        "`DAYS_EMPLOYED` : Quantos dias antes da aplicação a pessoa começou o emprego atual\n",
        "\n",
        "`DAYS_REGISTRATION` : Quantos dias antes da aplicação o cliente mudou seu registro\n",
        "\n",
        "`DAYS_ID_PUBLISH` : Quantos dias antes da aplicação o cliente mudou o documento de identidade com o qual solicitou o empréstimo\n",
        "\n",
        "`OWN_CAR_AGE` : Idade do carro do cliente\n",
        "\n",
        "`FLAG_MOBIL` : O cliente forneceu telefone celular (1=SIM, 0=NÃO)\n",
        "\n",
        "`FLAG_EMP_PHONE` : O cliente forneceu telefone comercial (1=SIM, 0=NÃO)\n",
        "\n",
        "`FLAG_WORK_PHONE` : O cliente forneceu telefone residencial (1=SIM, 0=NÃO)\n",
        "\n",
        "`FLAG_CONT_MOBILE` : O telefone celular do cliente era acessível (1=SIM, 0=NÃO)\n",
        "\n",
        "`FLAG_PHONE` : O cliente forneceu telefone residencial (1=SIM, 0=NÃO)\n",
        "\n",
        "`FLAG_EMAIL` : O cliente forneceu e-mail (1=SIM, 0=NÃO)\n",
        "\n",
        "`OCCUPATION_TYPE` : Qual tipo de ocupação o cliente tem\n",
        "\n",
        "`CNT_FAM_MEMBERS` : Quantos membros a família do cliente tem\n",
        "\n",
        "`REGION_RATING_CLIENT` : Nossa classificação da região onde o cliente mora (1,2,3)\n",
        "\n",
        "`REGION_RATING_CLIENT_W_CITY` : Nossa classificação da região onde o cliente mora, levando em consideração a cidade (1,2,3)\n",
        "\n",
        "`WEEKDAY_APPR_PROCESS_START` : Em qual dia da semana o cliente solicitou o empréstimo\n",
        "\n",
        "`HOUR_APPR_PROCESS_START` : Aproximadamente em que hora o cliente solicitou o empréstimo\n",
        "\n",
        "`REG_REGION_NOT_LIVE_REGION` : Sinalizador se o endereço permanente do cliente não corresponde ao endereço de contato (1=diferente, 0=igual, no nível regional)\n",
        "\n",
        "`REG_REGION_NOT_WORK_REGION` : Sinalizador se o endereço permanente do cliente não corresponde ao endereço de trabalho (1=diferente, 0=igual, no nível regional)\n",
        "\n",
        "`LIVE_REGION_NOT_WORK_REGION` : Sinalizador se o endereço de contato do cliente não corresponde ao endereço de trabalho (1=diferente, 0=igual, no nível regional)\n",
        "\n",
        "`REG_CITY_NOT_LIVE_CITY` : Sinalizador se o endereço permanente do cliente não corresponde ao endereço de contato (1=diferente, 0=igual, no nível da cidade)\n",
        "\n",
        "`REG_CITY_NOT_WORK_CITY` : Sinalizador se o endereço permanente do cliente não corresponde ao endereço de trabalho (1=diferente, 0=igual, no nível da cidade)\n",
        "\n",
        "`LIVE_CITY_NOT_WORK_CITY` : Sinalizador se o endereço de contato do cliente não corresponde ao endereço de trabalho (1=diferente, 0=igual, no nível da cidade)\n",
        "\n",
        "`ORGANIZATION_TYPE` : Tipo de organização onde o cliente trabalha\n",
        "\n",
        "`EXT_SOURCE_1` : Pontuação normalizada de fonte de dados externa\n",
        "\n",
        "`EXT_SOURCE_2` : Pontuação normalizada de fonte de dados externa\n",
        "\n",
        "`EXT_SOURCE_3` : Pontuação normalizada de fonte de dados externa\n",
        "\n",
        "`APARTMENTS_AVG` : Informações normalizadas sobre o prédio onde o cliente mora, qual é o tamanho médio (_AVG), moda (_MODE), tamanho mediano (_MEDI) do apartamento, área comum, área de estar, idade do prédio, número de elevadores, número de entradas, estado do prédio, número de andares\n",
        "\n",
        "`BASEMENTAREA_AVG` : Informações normalizadas sobre o prédio onde o cliente mora, qual é o tamanho médio (_AVG), moda (_MODE), tamanho mediano (_MEDI) do apartamento, área comum, área de estar, idade do prédio, número de elevadores, número de entradas, estado do prédio, número de andares\n",
        "\n",
        "`YEARS_BEGINEXPLUATATION_AVG` : Informações normalizadas sobre o prédio onde o cliente mora, qual é o tamanho médio (_AVG), moda (_MODE), tamanho mediano (_MEDI) do apartamento, área comum, área de estar, idade do prédio, número de elevadores, número de entradas, estado do prédio, número de andares\n",
        "\n",
        "`YEARS_BUILD_AVG` : Informações normalizadas sobre o prédio onde o cliente mora, qual é o tamanho médio (_AVG), moda (_MODE), tamanho mediano (_MEDI) do apartamento, área comum, área de estar, idade do prédio, número de elevadores, número de entradas, estado do prédio, número de andares\n",
        "\n",
        "`COMMONAREA_AVG` : Informações normalizadas sobre o prédio onde o cliente mora, qual é o tamanho médio (_AVG), moda (_MODE), tamanho mediano (_MEDI) do apartamento, área comum, área de estar, idade do prédio, número de elevadores, número de entradas, estado do prédio, número de andares\n",
        "\n",
        "`ELEVATORS_AVG` : Informações normalizadas sobre o prédio onde o cliente mora, qual é o tamanho médio (_AVG), moda (_MODE), tamanho mediano (_MEDI) do apartamento, área comum, área de estar, idade do prédio, número de elevadores, número de entradas, estado do prédio, número de andares\n",
        "\n",
        "`ENTRANCES_AVG` : Informações normalizadas sobre o prédio onde o cliente mora, qual é o tamanho médio (_AVG), moda (_MODE), tamanho mediano (_MEDI) do apartamento, área comum, área de estar, idade do prédio, número de elevadores, número de entradas, estado do prédio, número de andares\n",
        "\n",
        "`FLOORSMAX_AVG` : Informações normalizadas sobre o prédio onde o cliente mora, qual é o tamanho médio (_AVG), moda (_MODE), tamanho mediano (_MEDI) do apartamento, área comum, área de estar, idade do prédio, número de elevadores, número de entradas, estado do prédio, número de andares\n",
        "\n",
        "`FLOORSMIN_AVG` : Informações normalizadas sobre o prédio onde o cliente mora, qual é o tamanho médio (_AVG), moda (_MODE), tamanho mediano (_MEDI) do apartamento, área comum, área de estar, idade do prédio, número de elevadores, número de entradas, estado do prédio, número de andares\n",
        "\n",
        "`LANDAREA_AVG` : Informações normalizadas sobre o prédio onde o cliente mora, qual é o tamanho médio (_AVG), moda (_MODE), tamanho mediano (_MEDI) do apartamento, área comum, área de estar, idade do prédio, número de elevadores, número de entradas, estado do prédio, número de andares\n",
        "\n",
        "`LIVINGAPARTMENTS_AVG` : Informações normalizadas sobre o prédio onde o cliente mora, qual é o tamanho médio (_AVG), moda (_MODE), tamanho mediano (_MEDI) do apartamento, área comum, área de estar, idade do prédio, número de elevadores, número de entradas, estado do prédio, número de andares\n",
        "\n",
        "`LIVINGAREA_AVG` : Informações normalizadas sobre o prédio onde o cliente mora, qual é o tamanho médio (_AVG), moda (_MODE), tamanho mediano (_MEDI) do apartamento, área comum, área de estar, idade do prédio, número de elevadores, número de entradas, estado do prédio, número de andares\n",
        "\n",
        "`NONLIVINGAPARTMENTS_AVG` : Informações normalizadas sobre o prédio onde o cliente mora, qual é o tamanho médio (_AVG), moda (_MODE), tamanho mediano (_MEDI) do apartamento, área comum, área de estar, idade do prédio, número de elevadores, número de entradas, estado do prédio, número de andares\n",
        "\n",
        "`NONLIVINGAREA_AVG` : Informações normalizadas sobre o prédio onde o cliente mora, qual é o tamanho médio (_AVG), moda (_MODE), tamanho mediano (_MEDI) do apartamento, área comum, área de estar, idade do prédio, número de elevadores, número de entradas, estado do prédio, número de andares\n",
        "\n",
        "`APARTMENTS_MODE` : Informações normalizadas sobre o prédio onde o cliente mora, qual é o tamanho médio (_AVG), moda (_MODE), tamanho mediano (_MEDI) do apartamento, área comum, área de estar, idade do prédio, número de elevadores, número de entradas, estado do prédio, número de andares\n",
        "\n",
        "`BASEMENTAREA_MODE` : Informações normalizadas sobre o prédio onde o cliente mora, qual é o tamanho médio (_AVG), moda (_MODE), tamanho mediano (_MEDI) do apartamento, área comum, área de estar, idade do prédio, número de elevadores, número de entradas, estado do prédio, número de andares\n",
        "\n",
        "`YEARS_BEGINEXPLUATATION_MODE` : Informações normalizadas sobre o prédio onde o cliente mora, qual é o tamanho médio (_AVG), moda (_MODE), tamanho mediano (_MEDI) do apartamento, área comum, área de estar, idade do prédio, número de elevadores, número de entradas, estado do prédio, número de andares\n",
        "\n",
        "`YEARS_BUILD_MODE` : Informações normalizadas sobre o prédio onde o cliente mora, qual é o tamanho médio (_AVG), moda (_MODE), tamanho mediano (_MEDI) do apartamento, área comum, área de estar, idade do prédio, número de elevadores, número de entradas, estado do prédio, número de andares\n",
        "\n",
        "`COMMONAREA_MODE` : Informações normalizadas sobre o prédio onde o cliente mora, qual é o tamanho médio (_AVG), moda (_MODE), tamanho mediano (_MEDI) do apartamento, área comum, área de estar, idade do prédio, número de elevadores, número de entradas, estado do prédio, número de andares\n",
        "\n",
        "`ELEVATORS_MODE` : Informações normalizadas sobre o prédio onde o cliente mora, qual é o tamanho médio (_AVG), moda (_MODE), tamanho mediano (_MEDI) do apartamento, área comum, área de estar, idade do prédio, número de elevadores, número de entradas, estado do prédio, número de andares\n",
        "\n",
        "`ENTRANCES_MODE` : Informações normalizadas sobre o prédio onde o cliente mora, qual é o tamanho médio (_AVG), moda (_MODE), tamanho mediano (_MEDI) do apartamento, área comum, área de estar, idade do prédio, número de elevadores, número de entradas, estado do prédio, número de andares\n",
        "\n",
        "`FLOORSMAX_MODE` : Informações normalizadas sobre o prédio onde o cliente mora, qual é o tamanho médio (_AVG), moda (_MODE), tamanho mediano (_MEDI) do apartamento, área comum, área de estar, idade do prédio, número de elevadores, número de entradas, estado do prédio, número de andares\n",
        "\n",
        "`FLOORSMIN_MODE` : Informações normalizadas sobre o prédio onde o cliente mora, qual é o tamanho médio (_AVG), moda (_MODE), tamanho mediano (_MEDI) do apartamento, área comum, área de estar, idade do prédio, número de elevadores, número de entradas, estado do prédio, número de andares\n",
        "\n",
        "`LANDAREA_MODE` : Informações normalizadas sobre o prédio onde o cliente mora, qual é o tamanho médio (_AVG), moda (_MODE), tamanho mediano (_MEDI) do apartamento, área comum, área de estar, idade do prédio, número de elevadores, número de entradas, estado do prédio, número de andares\n",
        "\n",
        "`LIVINGAPARTMENTS_MODE` : Informações normalizadas sobre o prédio onde o cliente mora, qual é o tamanho médio (_AVG), moda (_MODE), tamanho mediano (_MEDI) do apartamento, área comum, área de estar, idade do prédio, número de elevadores, número de entradas, estado do prédio, número de andares\n",
        "\n",
        "`LIVINGAREA_MODE` : Informações normalizadas sobre o prédio onde o cliente mora, qual é o tamanho médio (_AVG), moda (_MODE), tamanho mediano (_MEDI) do apartamento, área comum, área de estar, idade do prédio, número de elevadores, número de entradas, estado do prédio, número de andares\n",
        "\n",
        "`NONLIVINGAPARTMENTS_MODE` : Informações normalizadas sobre o prédio onde o cliente mora, qual é o tamanho médio (_AVG), moda (_MODE), tamanho mediano (_MEDI) do apartamento, área comum, área de estar, idade do prédio, número de elevadores, número de entradas, estado do prédio, número de andares\n",
        "\n",
        "`NONLIVINGAREA_MODE` : Informações normalizadas sobre o prédio onde o cliente mora, qual é o tamanho médio (_AVG), moda (_MODE), tamanho mediano (_MEDI) do apartamento, área comum, área de estar, idade do prédio, número de elevadores, número de entradas, estado do prédio, número de andares\n",
        "\n",
        "`APARTMENTS_MEDI` : Informações normalizadas sobre o prédio onde o cliente mora, qual é o tamanho médio (_AVG), moda (_MODE), tamanho mediano (_MEDI) do apartamento, área comum, área de estar, idade do prédio, número de elevadores, número de entradas, estado do prédio, número de andares\n",
        "\n",
        "`BASEMENTAREA_MEDI` : Informações normalizadas sobre o prédio onde o cliente mora, qual é o tamanho médio (_AVG), moda (_MODE), tamanho mediano (_MEDI) do apartamento, área comum, área de estar, idade do prédio, número de elevadores, número de entradas, estado do prédio, número de andares\n",
        "\n",
        "`YEARS_BEGINEXPLUATATION_MEDI` : Informações normalizadas sobre o prédio onde o cliente mora, qual é o tamanho médio (_AVG), moda (_MODE), tamanho mediano (_MEDI) do apartamento, área comum, área de estar, idade do prédio, número de elevadores, número de entradas, estado do prédio, número de andares\n",
        "\n",
        "`YEARS_BUILD_MEDI` : Informações normalizadas sobre o prédio onde o cliente mora. Qual é o tamanho médio do apartamento (sufixo _AVG), moda (sufixo _MODE), tamanho mediano (sufixo _MEDI), área comum, área de estar, idade do prédio, número de elevadores, número de entradas, estado do prédio, número de andares\n",
        "\n",
        "`COMMONAREA_MEDI` : Informações normalizadas sobre o prédio onde o cliente mora. Qual é o tamanho médio do apartamento (sufixo _AVG), moda (sufixo _MODE), tamanho mediano (sufixo _MEDI), área comum, área de estar, idade do prédio, número de elevadores, número de entradas, estado do prédio, número de andares\n",
        "\n",
        "`ELEVATORS_MEDI` : Informações normalizadas sobre o prédio onde o cliente mora. Qual é o tamanho médio do apartamento (sufixo _AVG), moda (sufixo _MODE), tamanho mediano (sufixo _MEDI), área comum, área de estar, idade do prédio, número de elevadores, número de entradas, estado do prédio, número de andares\n",
        "\n",
        "`ENTRANCES_MEDI` : Informações normalizadas sobre o prédio onde o cliente mora. Qual é o tamanho médio do apartamento (sufixo _AVG), moda (sufixo _MODE), tamanho mediano (sufixo _MEDI), área comum, área de estar, idade do prédio, número de elevadores, número de entradas, estado do prédio, número de andares\n",
        "\n",
        "`FLOORSMAX_MEDI` : Informações normalizadas sobre o prédio onde o cliente mora. Qual é o tamanho médio do apartamento (sufixo _AVG), moda (sufixo _MODE), tamanho mediano (sufixo _MEDI), área comum, área de estar, idade do prédio, número de elevadores, número de entradas, estado do prédio, número de andares\n",
        "\n",
        "`FLOORSMIN_MEDI` : Informações normalizadas sobre o prédio onde o cliente mora. Qual é o tamanho médio do apartamento (sufixo _AVG), moda (sufixo _MODE), tamanho mediano (sufixo _MEDI), área comum, área de estar, idade do prédio, número de elevadores, número de entradas, estado do prédio, número de andares\n",
        "\n",
        "`LANDAREA_MEDI` : Informações normalizadas sobre o prédio onde o cliente mora. Qual é o tamanho médio do apartamento (sufixo _AVG), moda (sufixo _MODE), tamanho mediano (sufixo _MEDI), área comum, área de estar, idade do prédio, número de elevadores, número de entradas, estado do prédio, número de andares\n",
        "\n",
        "`LIVINGAPARTMENTS_MEDI` : Informações normalizadas sobre o prédio onde o cliente mora. Qual é o tamanho médio do apartamento (sufixo _AVG), moda (sufixo _MODE), tamanho mediano (sufixo _MEDI), área comum, área de estar, idade do prédio, número de elevadores, número de entradas, estado do prédio, número de andares\n",
        "\n",
        "`LIVINGAREA_MEDI` : Informações normalizadas sobre o prédio onde o cliente mora. Qual é o tamanho médio do apartamento (sufixo _AVG), moda (sufixo _MODE), tamanho mediano (sufixo _MEDI), área comum, área de estar, idade do prédio, número de elevadores, número de entradas, estado do prédio, número de andares\n",
        "\n",
        "`NONLIVINGAPARTMENTS_MEDI` : Informações normalizadas sobre o prédio onde o cliente mora. Qual é o tamanho médio do apartamento (sufixo _AVG), moda (sufixo _MODE), tamanho mediano (sufixo _MEDI), área comum, área de estar, idade do prédio, número de elevadores, número de entradas, estado do prédio, número de andares\n",
        "\n",
        "`NONLIVINGAREA_MEDI` : Informações normalizadas sobre o prédio onde o cliente mora. Qual é o tamanho médio do apartamento (sufixo _AVG), moda (sufixo _MODE), tamanho mediano (sufixo _MEDI), área comum, área de estar, idade do prédio, número de elevadores, número de entradas, estado do prédio, número de andares\n",
        "\n",
        "`FONDKAPREMONT_MODE` : Informações normalizadas sobre o prédio onde o cliente mora. Qual é o tamanho médio do apartamento (sufixo _AVG), moda (sufixo _MODE), tamanho mediano (sufixo _MEDI), área comum, área de estar, idade do prédio, número de elevadores, número de entradas, estado do prédio, número de andares\n",
        "\n",
        "`HOUSETYPE_MODE` : Informações normalizadas sobre o prédio onde o cliente mora. Qual é o tamanho médio do apartamento (sufixo _AVG), moda (sufixo _MODE), tamanho mediano (sufixo _MEDI), área comum, área de estar, idade do prédio, número de elevadores, número de entradas, estado do prédio, número de andares\n",
        "\n",
        "`TOTALAREA_MODE` : Informações normalizadas sobre o prédio onde o cliente mora. Qual é o tamanho médio do apartamento (sufixo _AVG), moda (sufixo _MODE), tamanho mediano (sufixo _MEDI), área comum, área de estar, idade do prédio, número de elevadores, número de entradas, estado do prédio, número de andares\n",
        "\n",
        "`WALLSMATERIAL_MODE` : Informações normalizadas sobre o prédio onde o cliente mora. Qual é o tamanho médio do apartamento (sufixo _AVG), moda (sufixo _MODE), tamanho mediano (sufixo _MEDI), área comum, área de estar, idade do prédio, número de elevadores, número de entradas, estado do prédio, número de andares\n",
        "\n",
        "`EMERGENCYSTATE_MODE` : Informações normalizadas sobre o prédio onde o cliente mora. Qual é o tamanho médio do apartamento (sufixo _AVG), moda (sufixo _MODE), tamanho mediano (sufixo _MEDI), área comum, área de estar, idade do prédio, número de elevadores, número de entradas, estado do prédio, número de andares\n",
        "\n",
        "`OBS_30_CNT_SOCIAL_CIRCLE` : Quantas observações do círculo social do cliente são observáveis com 30 DPD (dias de atraso)\n",
        "\n",
        "`DEF_30_CNT_SOCIAL_CIRCLE` : Quantas observações do círculo social do cliente entraram em default em 30 DPD (dias de atraso)\n",
        "\n",
        "`OBS_60_CNT_SOCIAL_CIRCLE` : Quantas observações do círculo social do cliente são observáveis com 60 DPD (dias de atraso)\n",
        "\n",
        "`DEF_60_CNT_SOCIAL_CIRCLE` : Quantas observações do círculo social do cliente entraram em default em 60 DPD (dias de atraso)\n",
        "\n",
        "`DAYS_LAST_PHONE_CHANGE` : Quantos dias antes da aplicação o cliente mudou de telefone\n",
        "\n",
        "`FLAG_DOCUMENT_2` : O cliente forneceu o documento 2\n",
        "\n",
        "`FLAG_DOCUMENT_3` : O cliente forneceu o documento 3\n",
        "\n",
        "`FLAG_DOCUMENT_4` : O cliente forneceu o documento 4\n",
        "\n",
        "`FLAG_DOCUMENT_5`: O cliente forneceu o documento 5\n",
        "\n",
        "`FLAG_DOCUMENT_6` : O cliente forneceu o documento 6\n",
        "\n",
        "`FLAG_DOCUMENT_7` : O cliente forneceu o documento 7\n",
        "\n",
        "`FLAG_DOCUMENT_8` : O cliente forneceu o documento 8\n",
        "\n",
        "`FLAG_DOCUMENT_9` : O cliente forneceu o documento 9\n",
        "\n",
        "`FLAG_DOCUMENT_10` : O cliente forneceu o documento 10\n",
        "\n",
        "`FLAG_DOCUMENT_11` : O cliente forneceu o documento 11\n",
        "\n",
        "`FLAG_DOCUMENT_12` : O cliente forneceu o documento 12\n",
        "\n",
        "`FLAG_DOCUMENT_13` : O cliente forneceu o documento 13\n",
        "\n",
        "`FLAG_DOCUMENT_14` : O cliente forneceu o documento 14\n",
        "\n",
        "`FLAG_DOCUMENT_15` : O cliente forneceu o documento 15\n",
        "\n",
        "`FLAG_DOCUMENT_16` : O cliente forneceu o documento 16\n",
        "\n",
        "`FLAG_DOCUMENT_17` : O cliente forneceu o documento 17\n",
        "\n",
        "`FLAG_DOCUMENT_18` : O cliente forneceu o documento 18\n",
        "\n",
        "`FLAG_DOCUMENT_19` : O cliente forneceu o documento 19\n",
        "\n",
        "`FLAG_DOCUMENT_20` : O cliente forneceu o documento 20\n",
        "\n",
        "`FLAG_DOCUMENT_21` : O cliente forneceu o documento 21\n",
        "\n",
        "`AMT_REQ_CREDIT_BUREAU_HOUR` : Número de consultas ao Credit Bureau sobre o cliente uma hora antes da aplicação\n",
        "\n",
        "`AMT_REQ_CREDIT_BUREAU_DAY` : Número de consultas ao Credit Bureau sobre o cliente um dia antes da aplicação (excluindo uma hora antes da aplicação)\n",
        "\n",
        "`AMT_REQ_CREDIT_BUREAU_WEEK` : Número de consultas ao Credit Bureau sobre o cliente uma semana antes da aplicação (excluindo um dia antes da aplicação)\n",
        "\n",
        "`AMT_REQ_CREDIT_BUREAU_MON` : Número de consultas ao Credit Bureau sobre o cliente um mês antes da aplicação (excluindo uma semana antes da aplicação)\n",
        "\n",
        "`AMT_REQ_CREDIT_BUREAU_QRT` : Número de consultas ao Credit Bureau sobre o cliente 3 meses antes da aplicação (excluindo um mês antes da aplicação)\n",
        "\n",
        "`AMT_REQ_CREDIT_BUREAU_YEAR` : Número de consultas ao Credit Bureau sobre o cliente um ano antes (excluindo os últimos 3 meses antes da aplicação)"
      ]
    },
    {
      "cell_type": "markdown",
      "source": [
        "Deletei algumas colunas que julguei não ser necessária para está primeira etapa de análise exploratória dos dados."
      ],
      "metadata": {
        "id": "nQGmsaMDATyO"
      }
    },
    {
      "cell_type": "code",
      "source": [
        "# Lista das colunas a serem excluídas\n",
        "colunas_a_excluir = [\n",
        "    \"APARTMENTS_AVG\",\n",
        "    \"BASEMENTAREA_AVG\",\n",
        "    \"YEARS_BEGINEXPLUATATION_AVG\",\n",
        "    \"YEARS_BUILD_AVG\",\n",
        "    \"COMMONAREA_AVG\",\n",
        "    \"ELEVATORS_AVG\",\n",
        "    \"ENTRANCES_AVG\",\n",
        "    \"FLOORSMAX_AVG\",\n",
        "    \"FLOORSMIN_AVG\",\n",
        "    \"LANDAREA_AVG\",\n",
        "    \"LIVINGAPARTMENTS_AVG\",\n",
        "    \"LIVINGAREA_AVG\",\n",
        "    \"NONLIVINGAPARTMENTS_AVG\",\n",
        "    \"NONLIVINGAREA_AVG\",\n",
        "    \"APARTMENTS_MODE\",\n",
        "    \"BASEMENTAREA_MODE\",\n",
        "    \"YEARS_BEGINEXPLUATATION_MODE\",\n",
        "    \"YEARS_BUILD_MODE\",\n",
        "    \"COMMONAREA_MODE\",\n",
        "    \"OWN_CAR_AGE\",\n",
        "    \"ELEVATORS_MODE\",\n",
        "    \"ENTRANCES_MODE\",\n",
        "    \"FLOORSMAX_MODE\",\n",
        "    \"FLOORSMIN_MODE\",\n",
        "    \"LANDAREA_MODE\",\n",
        "    \"LIVINGAPARTMENTS_MODE\",\n",
        "    \"LIVINGAREA_MODE\",\n",
        "    \"NONLIVINGAPARTMENTS_MODE\",\n",
        "    \"NONLIVINGAREA_MODE\",\n",
        "    \"APARTMENTS_MEDI\",\n",
        "    \"BASEMENTAREA_MEDI\",\n",
        "    \"YEARS_BEGINEXPLUATATION_MEDI\",\n",
        "    \"YEARS_BUILD_MEDI\",\n",
        "    \"COMMONAREA_MEDI\",\n",
        "    \"ELEVATORS_MEDI\",\n",
        "    \"ENTRANCES_MEDI\",\n",
        "    \"FLOORSMAX_MEDI\",\n",
        "    \"FLOORSMIN_MEDI\",\n",
        "    \"LANDAREA_MEDI\",\n",
        "    \"LIVINGAPARTMENTS_MEDI\",\n",
        "    \"LIVINGAREA_MEDI\",\n",
        "    \"NONLIVINGAPARTMENTS_MEDI\",\n",
        "    \"NONLIVINGAREA_MEDI\",\n",
        "    \"FONDKAPREMONT_MODE\",\n",
        "    \"HOUSETYPE_MODE\",\n",
        "    \"TOTALAREA_MODE\",\n",
        "    \"WALLSMATERIAL_MODE\",\n",
        "    \"EMERGENCYSTATE_MODE\",\n",
        "    \"OBS_30_CNT_SOCIAL_CIRCLE\",\n",
        "    \"DEF_30_CNT_SOCIAL_CIRCLE\",\n",
        "    \"OBS_60_CNT_SOCIAL_CIRCLE\",\n",
        "    \"DEF_60_CNT_SOCIAL_CIRCLE\",\n",
        "    \"DAYS_LAST_PHONE_CHANGE\",\n",
        "    \"FLAG_DOCUMENT_2\",\n",
        "    \"FLAG_DOCUMENT_3\",\n",
        "    \"FLAG_DOCUMENT_4\",\n",
        "    \"FLAG_DOCUMENT_5\",\n",
        "    \"FLAG_DOCUMENT_6\",\n",
        "    \"FLAG_DOCUMENT_7\",\n",
        "    \"FLAG_DOCUMENT_8\",\n",
        "    \"FLAG_DOCUMENT_9\",\n",
        "    \"FLAG_DOCUMENT_10\",\n",
        "    \"FLAG_DOCUMENT_11\",\n",
        "    \"FLAG_DOCUMENT_12\",\n",
        "    \"FLAG_DOCUMENT_13\",\n",
        "    \"FLAG_DOCUMENT_14\",\n",
        "    \"FLAG_DOCUMENT_15\",\n",
        "    \"FLAG_DOCUMENT_16\",\n",
        "    \"FLAG_DOCUMENT_17\",\n",
        "    \"FLAG_DOCUMENT_18\",\n",
        "    \"FLAG_DOCUMENT_19\",\n",
        "    \"FLAG_DOCUMENT_20\",\n",
        "    \"FLAG_DOCUMENT_21\"\n",
        "]\n",
        "\n",
        "# DataFrame resultante com as colunas excluídas\n",
        "df_application_train_V1 = df_application_train.drop(columns=colunas_a_excluir)\n",
        "\n"
      ],
      "metadata": {
        "id": "bb8uH1Ds7lLG"
      },
      "execution_count": 5,
      "outputs": []
    },
    {
      "cell_type": "code",
      "source": [
        " #Salvar o DataFrame resultante em um novo arquivo, se necessário\n",
        "df_application_train_V1.to_csv(\"application_train_V1.csv\", index=False)"
      ],
      "metadata": {
        "id": "y63jNclXpgc1"
      },
      "execution_count": 6,
      "outputs": []
    },
    {
      "cell_type": "code",
      "source": [
        "df_application_train_V1 = df_application_train.copy()"
      ],
      "metadata": {
        "id": "7nnReIMG3wCZ"
      },
      "execution_count": 7,
      "outputs": []
    },
    {
      "cell_type": "code",
      "source": [
        "df_application_train_V1 = spark.read.csv ('/content/application_train_V1.csv', header=True, inferSchema=True)\n",
        "df_application_train_V1.createOrReplaceTempView(\"df_application_train_V1\")"
      ],
      "metadata": {
        "id": "DIRAEFwX-vqO"
      },
      "execution_count": 13,
      "outputs": []
    },
    {
      "cell_type": "code",
      "source": [
        "df_application_train_V1 = ('/content/application_train_V1.csv')\n",
        "df_application_train_V1 = pd.read_csv(df_application_train_V1,sep = ',')"
      ],
      "metadata": {
        "id": "yuCkGgM1psRx"
      },
      "execution_count": 14,
      "outputs": []
    },
    {
      "cell_type": "markdown",
      "source": [
        "## Metadados"
      ],
      "metadata": {
        "id": "_9PcnDeJmLKC"
      }
    },
    {
      "cell_type": "markdown",
      "source": [
        "**Verificando o tipo dos dados**\n",
        "\n",
        "Etapa inicial de qualquer projeto, neste momento é possivel identificar os tipos de variaveis que temos e se é preciso fazer alguma trativa."
      ],
      "metadata": {
        "id": "o_Y9Wny_x7IY"
      }
    },
    {
      "cell_type": "code",
      "source": [
        "def generate_metadata(dataframe):\n",
        "    \"\"\"\n",
        "    Gera um dataframe contendo metadados das colunas do dataframe fornecido.\n",
        "\n",
        "    :param dataframe: DataFrame para o qual os metadados serão gerados.\n",
        "    :return: DataFrame contendo metadados.\n",
        "    \"\"\"\n",
        "\n",
        "    # Coleta de metadados básicos\n",
        "    metadata = pd.DataFrame({\n",
        "        'nome_variavel': dataframe.columns,\n",
        "        'tipo': dataframe.dtypes,\n",
        "        'qt_nulos': dataframe.isnull().sum(),\n",
        "        'percent_nulos': round((dataframe.isnull().sum() / len(dataframe))* 100,2),\n",
        "        'cardinalidade': dataframe.nunique(),\n",
        "    })\n",
        "    metadata = metadata.sort_values(by='tipo')\n",
        "    metadata = metadata.reset_index(drop=True)\n",
        "\n",
        "    return metadata\n",
        "\n",
        "generate_metadata(df_application_train_V1)"
      ],
      "metadata": {
        "colab": {
          "base_uri": "https://localhost:8080/",
          "height": 423
        },
        "id": "HM6aKrg4xXe5",
        "outputId": "bb645913-d081-4ec1-8d78-b022ad46052d"
      },
      "execution_count": 10,
      "outputs": [
        {
          "output_type": "execute_result",
          "data": {
            "text/plain": [
              "                 nome_variavel    tipo  qt_nulos  percent_nulos  cardinalidade\n",
              "0                   SK_ID_CURR   int64         0           0.00         215257\n",
              "1                   FLAG_MOBIL   int64         0           0.00              2\n",
              "2               FLAG_EMP_PHONE   int64         0           0.00              2\n",
              "3              FLAG_WORK_PHONE   int64         0           0.00              2\n",
              "4             FLAG_CONT_MOBILE   int64         0           0.00              2\n",
              "..                         ...     ...       ...            ...            ...\n",
              "94           NAME_HOUSING_TYPE  object         0           0.00              6\n",
              "95             OCCUPATION_TYPE  object     67409          31.32             18\n",
              "96           ORGANIZATION_TYPE  object         0           0.00             58\n",
              "97             NAME_TYPE_SUITE  object       913           0.42              7\n",
              "98  WEEKDAY_APPR_PROCESS_START  object         0           0.00              7\n",
              "\n",
              "[99 rows x 5 columns]"
            ],
            "text/html": [
              "\n",
              "  <div id=\"df-521fec8e-51b9-420a-a0c1-b3ef614301fc\" class=\"colab-df-container\">\n",
              "    <div>\n",
              "<style scoped>\n",
              "    .dataframe tbody tr th:only-of-type {\n",
              "        vertical-align: middle;\n",
              "    }\n",
              "\n",
              "    .dataframe tbody tr th {\n",
              "        vertical-align: top;\n",
              "    }\n",
              "\n",
              "    .dataframe thead th {\n",
              "        text-align: right;\n",
              "    }\n",
              "</style>\n",
              "<table border=\"1\" class=\"dataframe\">\n",
              "  <thead>\n",
              "    <tr style=\"text-align: right;\">\n",
              "      <th></th>\n",
              "      <th>nome_variavel</th>\n",
              "      <th>tipo</th>\n",
              "      <th>qt_nulos</th>\n",
              "      <th>percent_nulos</th>\n",
              "      <th>cardinalidade</th>\n",
              "    </tr>\n",
              "  </thead>\n",
              "  <tbody>\n",
              "    <tr>\n",
              "      <th>0</th>\n",
              "      <td>SK_ID_CURR</td>\n",
              "      <td>int64</td>\n",
              "      <td>0</td>\n",
              "      <td>0.00</td>\n",
              "      <td>215257</td>\n",
              "    </tr>\n",
              "    <tr>\n",
              "      <th>1</th>\n",
              "      <td>FLAG_MOBIL</td>\n",
              "      <td>int64</td>\n",
              "      <td>0</td>\n",
              "      <td>0.00</td>\n",
              "      <td>2</td>\n",
              "    </tr>\n",
              "    <tr>\n",
              "      <th>2</th>\n",
              "      <td>FLAG_EMP_PHONE</td>\n",
              "      <td>int64</td>\n",
              "      <td>0</td>\n",
              "      <td>0.00</td>\n",
              "      <td>2</td>\n",
              "    </tr>\n",
              "    <tr>\n",
              "      <th>3</th>\n",
              "      <td>FLAG_WORK_PHONE</td>\n",
              "      <td>int64</td>\n",
              "      <td>0</td>\n",
              "      <td>0.00</td>\n",
              "      <td>2</td>\n",
              "    </tr>\n",
              "    <tr>\n",
              "      <th>4</th>\n",
              "      <td>FLAG_CONT_MOBILE</td>\n",
              "      <td>int64</td>\n",
              "      <td>0</td>\n",
              "      <td>0.00</td>\n",
              "      <td>2</td>\n",
              "    </tr>\n",
              "    <tr>\n",
              "      <th>...</th>\n",
              "      <td>...</td>\n",
              "      <td>...</td>\n",
              "      <td>...</td>\n",
              "      <td>...</td>\n",
              "      <td>...</td>\n",
              "    </tr>\n",
              "    <tr>\n",
              "      <th>94</th>\n",
              "      <td>NAME_HOUSING_TYPE</td>\n",
              "      <td>object</td>\n",
              "      <td>0</td>\n",
              "      <td>0.00</td>\n",
              "      <td>6</td>\n",
              "    </tr>\n",
              "    <tr>\n",
              "      <th>95</th>\n",
              "      <td>OCCUPATION_TYPE</td>\n",
              "      <td>object</td>\n",
              "      <td>67409</td>\n",
              "      <td>31.32</td>\n",
              "      <td>18</td>\n",
              "    </tr>\n",
              "    <tr>\n",
              "      <th>96</th>\n",
              "      <td>ORGANIZATION_TYPE</td>\n",
              "      <td>object</td>\n",
              "      <td>0</td>\n",
              "      <td>0.00</td>\n",
              "      <td>58</td>\n",
              "    </tr>\n",
              "    <tr>\n",
              "      <th>97</th>\n",
              "      <td>NAME_TYPE_SUITE</td>\n",
              "      <td>object</td>\n",
              "      <td>913</td>\n",
              "      <td>0.42</td>\n",
              "      <td>7</td>\n",
              "    </tr>\n",
              "    <tr>\n",
              "      <th>98</th>\n",
              "      <td>WEEKDAY_APPR_PROCESS_START</td>\n",
              "      <td>object</td>\n",
              "      <td>0</td>\n",
              "      <td>0.00</td>\n",
              "      <td>7</td>\n",
              "    </tr>\n",
              "  </tbody>\n",
              "</table>\n",
              "<p>99 rows × 5 columns</p>\n",
              "</div>\n",
              "    <div class=\"colab-df-buttons\">\n",
              "\n",
              "  <div class=\"colab-df-container\">\n",
              "    <button class=\"colab-df-convert\" onclick=\"convertToInteractive('df-521fec8e-51b9-420a-a0c1-b3ef614301fc')\"\n",
              "            title=\"Convert this dataframe to an interactive table.\"\n",
              "            style=\"display:none;\">\n",
              "\n",
              "  <svg xmlns=\"http://www.w3.org/2000/svg\" height=\"24px\" viewBox=\"0 -960 960 960\">\n",
              "    <path d=\"M120-120v-720h720v720H120Zm60-500h600v-160H180v160Zm220 220h160v-160H400v160Zm0 220h160v-160H400v160ZM180-400h160v-160H180v160Zm440 0h160v-160H620v160ZM180-180h160v-160H180v160Zm440 0h160v-160H620v160Z\"/>\n",
              "  </svg>\n",
              "    </button>\n",
              "\n",
              "  <style>\n",
              "    .colab-df-container {\n",
              "      display:flex;\n",
              "      gap: 12px;\n",
              "    }\n",
              "\n",
              "    .colab-df-convert {\n",
              "      background-color: #E8F0FE;\n",
              "      border: none;\n",
              "      border-radius: 50%;\n",
              "      cursor: pointer;\n",
              "      display: none;\n",
              "      fill: #1967D2;\n",
              "      height: 32px;\n",
              "      padding: 0 0 0 0;\n",
              "      width: 32px;\n",
              "    }\n",
              "\n",
              "    .colab-df-convert:hover {\n",
              "      background-color: #E2EBFA;\n",
              "      box-shadow: 0px 1px 2px rgba(60, 64, 67, 0.3), 0px 1px 3px 1px rgba(60, 64, 67, 0.15);\n",
              "      fill: #174EA6;\n",
              "    }\n",
              "\n",
              "    .colab-df-buttons div {\n",
              "      margin-bottom: 4px;\n",
              "    }\n",
              "\n",
              "    [theme=dark] .colab-df-convert {\n",
              "      background-color: #3B4455;\n",
              "      fill: #D2E3FC;\n",
              "    }\n",
              "\n",
              "    [theme=dark] .colab-df-convert:hover {\n",
              "      background-color: #434B5C;\n",
              "      box-shadow: 0px 1px 3px 1px rgba(0, 0, 0, 0.15);\n",
              "      filter: drop-shadow(0px 1px 2px rgba(0, 0, 0, 0.3));\n",
              "      fill: #FFFFFF;\n",
              "    }\n",
              "  </style>\n",
              "\n",
              "    <script>\n",
              "      const buttonEl =\n",
              "        document.querySelector('#df-521fec8e-51b9-420a-a0c1-b3ef614301fc button.colab-df-convert');\n",
              "      buttonEl.style.display =\n",
              "        google.colab.kernel.accessAllowed ? 'block' : 'none';\n",
              "\n",
              "      async function convertToInteractive(key) {\n",
              "        const element = document.querySelector('#df-521fec8e-51b9-420a-a0c1-b3ef614301fc');\n",
              "        const dataTable =\n",
              "          await google.colab.kernel.invokeFunction('convertToInteractive',\n",
              "                                                    [key], {});\n",
              "        if (!dataTable) return;\n",
              "\n",
              "        const docLinkHtml = 'Like what you see? Visit the ' +\n",
              "          '<a target=\"_blank\" href=https://colab.research.google.com/notebooks/data_table.ipynb>data table notebook</a>'\n",
              "          + ' to learn more about interactive tables.';\n",
              "        element.innerHTML = '';\n",
              "        dataTable['output_type'] = 'display_data';\n",
              "        await google.colab.output.renderOutput(dataTable, element);\n",
              "        const docLink = document.createElement('div');\n",
              "        docLink.innerHTML = docLinkHtml;\n",
              "        element.appendChild(docLink);\n",
              "      }\n",
              "    </script>\n",
              "  </div>\n",
              "\n",
              "\n",
              "<div id=\"df-34c9332e-f1e5-4e3a-a05f-35427985cff6\">\n",
              "  <button class=\"colab-df-quickchart\" onclick=\"quickchart('df-34c9332e-f1e5-4e3a-a05f-35427985cff6')\"\n",
              "            title=\"Suggest charts\"\n",
              "            style=\"display:none;\">\n",
              "\n",
              "<svg xmlns=\"http://www.w3.org/2000/svg\" height=\"24px\"viewBox=\"0 0 24 24\"\n",
              "     width=\"24px\">\n",
              "    <g>\n",
              "        <path d=\"M19 3H5c-1.1 0-2 .9-2 2v14c0 1.1.9 2 2 2h14c1.1 0 2-.9 2-2V5c0-1.1-.9-2-2-2zM9 17H7v-7h2v7zm4 0h-2V7h2v10zm4 0h-2v-4h2v4z\"/>\n",
              "    </g>\n",
              "</svg>\n",
              "  </button>\n",
              "\n",
              "<style>\n",
              "  .colab-df-quickchart {\n",
              "      --bg-color: #E8F0FE;\n",
              "      --fill-color: #1967D2;\n",
              "      --hover-bg-color: #E2EBFA;\n",
              "      --hover-fill-color: #174EA6;\n",
              "      --disabled-fill-color: #AAA;\n",
              "      --disabled-bg-color: #DDD;\n",
              "  }\n",
              "\n",
              "  [theme=dark] .colab-df-quickchart {\n",
              "      --bg-color: #3B4455;\n",
              "      --fill-color: #D2E3FC;\n",
              "      --hover-bg-color: #434B5C;\n",
              "      --hover-fill-color: #FFFFFF;\n",
              "      --disabled-bg-color: #3B4455;\n",
              "      --disabled-fill-color: #666;\n",
              "  }\n",
              "\n",
              "  .colab-df-quickchart {\n",
              "    background-color: var(--bg-color);\n",
              "    border: none;\n",
              "    border-radius: 50%;\n",
              "    cursor: pointer;\n",
              "    display: none;\n",
              "    fill: var(--fill-color);\n",
              "    height: 32px;\n",
              "    padding: 0;\n",
              "    width: 32px;\n",
              "  }\n",
              "\n",
              "  .colab-df-quickchart:hover {\n",
              "    background-color: var(--hover-bg-color);\n",
              "    box-shadow: 0 1px 2px rgba(60, 64, 67, 0.3), 0 1px 3px 1px rgba(60, 64, 67, 0.15);\n",
              "    fill: var(--button-hover-fill-color);\n",
              "  }\n",
              "\n",
              "  .colab-df-quickchart-complete:disabled,\n",
              "  .colab-df-quickchart-complete:disabled:hover {\n",
              "    background-color: var(--disabled-bg-color);\n",
              "    fill: var(--disabled-fill-color);\n",
              "    box-shadow: none;\n",
              "  }\n",
              "\n",
              "  .colab-df-spinner {\n",
              "    border: 2px solid var(--fill-color);\n",
              "    border-color: transparent;\n",
              "    border-bottom-color: var(--fill-color);\n",
              "    animation:\n",
              "      spin 1s steps(1) infinite;\n",
              "  }\n",
              "\n",
              "  @keyframes spin {\n",
              "    0% {\n",
              "      border-color: transparent;\n",
              "      border-bottom-color: var(--fill-color);\n",
              "      border-left-color: var(--fill-color);\n",
              "    }\n",
              "    20% {\n",
              "      border-color: transparent;\n",
              "      border-left-color: var(--fill-color);\n",
              "      border-top-color: var(--fill-color);\n",
              "    }\n",
              "    30% {\n",
              "      border-color: transparent;\n",
              "      border-left-color: var(--fill-color);\n",
              "      border-top-color: var(--fill-color);\n",
              "      border-right-color: var(--fill-color);\n",
              "    }\n",
              "    40% {\n",
              "      border-color: transparent;\n",
              "      border-right-color: var(--fill-color);\n",
              "      border-top-color: var(--fill-color);\n",
              "    }\n",
              "    60% {\n",
              "      border-color: transparent;\n",
              "      border-right-color: var(--fill-color);\n",
              "    }\n",
              "    80% {\n",
              "      border-color: transparent;\n",
              "      border-right-color: var(--fill-color);\n",
              "      border-bottom-color: var(--fill-color);\n",
              "    }\n",
              "    90% {\n",
              "      border-color: transparent;\n",
              "      border-bottom-color: var(--fill-color);\n",
              "    }\n",
              "  }\n",
              "</style>\n",
              "\n",
              "  <script>\n",
              "    async function quickchart(key) {\n",
              "      const quickchartButtonEl =\n",
              "        document.querySelector('#' + key + ' button');\n",
              "      quickchartButtonEl.disabled = true;  // To prevent multiple clicks.\n",
              "      quickchartButtonEl.classList.add('colab-df-spinner');\n",
              "      try {\n",
              "        const charts = await google.colab.kernel.invokeFunction(\n",
              "            'suggestCharts', [key], {});\n",
              "      } catch (error) {\n",
              "        console.error('Error during call to suggestCharts:', error);\n",
              "      }\n",
              "      quickchartButtonEl.classList.remove('colab-df-spinner');\n",
              "      quickchartButtonEl.classList.add('colab-df-quickchart-complete');\n",
              "    }\n",
              "    (() => {\n",
              "      let quickchartButtonEl =\n",
              "        document.querySelector('#df-34c9332e-f1e5-4e3a-a05f-35427985cff6 button');\n",
              "      quickchartButtonEl.style.display =\n",
              "        google.colab.kernel.accessAllowed ? 'block' : 'none';\n",
              "    })();\n",
              "  </script>\n",
              "</div>\n",
              "    </div>\n",
              "  </div>\n"
            ],
            "application/vnd.google.colaboratory.intrinsic+json": {
              "type": "dataframe",
              "summary": "{\n  \"name\": \"generate_metadata(df_application_train_V1)\",\n  \"rows\": 99,\n  \"fields\": [\n    {\n      \"column\": \"nome_variavel\",\n      \"properties\": {\n        \"dtype\": \"string\",\n        \"num_unique_values\": 99,\n        \"samples\": [\n          \"AMT_CREDIT\",\n          \"var_47\",\n          \"OCCUPATION_TYPE\"\n        ],\n        \"semantic_type\": \"\",\n        \"description\": \"\"\n      }\n    },\n    {\n      \"column\": \"tipo\",\n      \"properties\": {\n        \"dtype\": \"category\",\n        \"num_unique_values\": 3,\n        \"samples\": [\n          \"int64\",\n          \"float64\",\n          \"object\"\n        ],\n        \"semantic_type\": \"\",\n        \"description\": \"\"\n      }\n    },\n    {\n      \"column\": \"qt_nulos\",\n      \"properties\": {\n        \"dtype\": \"number\",\n        \"std\": 15810,\n        \"min\": 0,\n        \"max\": 121249,\n        \"num_unique_values\": 10,\n        \"samples\": [\n          67409,\n          8,\n          473\n        ],\n        \"semantic_type\": \"\",\n        \"description\": \"\"\n      }\n    },\n    {\n      \"column\": \"percent_nulos\",\n      \"properties\": {\n        \"dtype\": \"number\",\n        \"std\": 7.3453007553790295,\n        \"min\": 0.0,\n        \"max\": 56.33,\n        \"num_unique_values\": 8,\n        \"samples\": [\n          0.09,\n          13.54,\n          0.0\n        ],\n        \"semantic_type\": \"\",\n        \"description\": \"\"\n      }\n    },\n    {\n      \"column\": \"cardinalidade\",\n      \"properties\": {\n        \"dtype\": \"number\",\n        \"std\": 106240,\n        \"min\": 2,\n        \"max\": 215257,\n        \"num_unique_values\": 29,\n        \"samples\": [\n          58,\n          102294,\n          81\n        ],\n        \"semantic_type\": \"\",\n        \"description\": \"\"\n      }\n    }\n  ]\n}"
            }
          },
          "metadata": {},
          "execution_count": 10
        }
      ]
    },
    {
      "cell_type": "code",
      "source": [
        "# Estatística descritiva completa\n",
        "df_application_train_V1.describe(include='all')"
      ],
      "metadata": {
        "colab": {
          "base_uri": "https://localhost:8080/",
          "height": 443
        },
        "id": "C7ORHWooyRQF",
        "outputId": "2b4dd551-166d-47c0-c76c-fd2e30c23eed"
      },
      "execution_count": 11,
      "outputs": [
        {
          "output_type": "execute_result",
          "data": {
            "text/plain": [
              "           SK_ID_CURR         TARGET NAME_CONTRACT_TYPE CODE_GENDER  \\\n",
              "count   215257.000000  215257.000000             215257      215257   \n",
              "unique            NaN            NaN                  2           3   \n",
              "top               NaN            NaN         Cash loans           F   \n",
              "freq              NaN            NaN             194663      141565   \n",
              "mean    278236.387137       0.080889                NaN         NaN   \n",
              "std     102885.029589       0.272666                NaN         NaN   \n",
              "min     100003.000000       0.000000                NaN         NaN   \n",
              "25%     189025.000000       0.000000                NaN         NaN   \n",
              "50%     278215.000000       0.000000                NaN         NaN   \n",
              "75%     367388.000000       0.000000                NaN         NaN   \n",
              "max     456255.000000       1.000000                NaN         NaN   \n",
              "\n",
              "       FLAG_OWN_CAR FLAG_OWN_REALTY   CNT_CHILDREN  AMT_INCOME_TOTAL  \\\n",
              "count        215257          215257  215257.000000      2.152570e+05   \n",
              "unique            2               2            NaN               NaN   \n",
              "top               N               Y            NaN               NaN   \n",
              "freq         141832          149519            NaN               NaN   \n",
              "mean            NaN             NaN       0.416637      1.685568e+05   \n",
              "std             NaN             NaN       0.719695      1.058557e+05   \n",
              "min             NaN             NaN       0.000000      2.565000e+04   \n",
              "25%             NaN             NaN       0.000000      1.125000e+05   \n",
              "50%             NaN             NaN       0.000000      1.440000e+05   \n",
              "75%             NaN             NaN       1.000000      2.025000e+05   \n",
              "max             NaN             NaN      19.000000      1.350000e+07   \n",
              "\n",
              "          AMT_CREDIT    AMT_ANNUITY  ...        var_41         var_42  \\\n",
              "count   2.152570e+05  215249.000000  ...  2.152570e+05  215257.000000   \n",
              "unique           NaN            NaN  ...           NaN            NaN   \n",
              "top              NaN            NaN  ...           NaN            NaN   \n",
              "freq             NaN            NaN  ...           NaN            NaN   \n",
              "mean    5.994960e+05   27119.681762  ...  5.000397e-01       0.500387   \n",
              "std     4.028989e+05   14522.021876  ...  2.886308e-01       0.288874   \n",
              "min     4.500000e+04    1615.500000  ...  4.701627e-08       0.000002   \n",
              "25%     2.700000e+05   16506.000000  ...  2.503571e-01       0.249831   \n",
              "50%     5.148675e+05   24903.000000  ...  4.999917e-01       0.500096   \n",
              "75%     8.086500e+05   34650.000000  ...  7.496017e-01       0.750930   \n",
              "max     4.050000e+06  258025.500000  ...  9.999890e-01       0.999994   \n",
              "\n",
              "               var_43         var_44         var_45         var_46  \\\n",
              "count   215257.000000  215257.000000  215257.000000  215257.000000   \n",
              "unique            NaN            NaN            NaN            NaN   \n",
              "top               NaN            NaN            NaN            NaN   \n",
              "freq              NaN            NaN            NaN            NaN   \n",
              "mean         0.499759       0.499714       0.500411       0.500602   \n",
              "std          0.288854       0.288689       0.288678       0.288052   \n",
              "min          0.000010       0.000005       0.000016       0.000004   \n",
              "25%          0.249154       0.250009       0.250346       0.251720   \n",
              "50%          0.500020       0.500167       0.500267       0.500931   \n",
              "75%          0.749430       0.749317       0.750656       0.750341   \n",
              "max          0.999988       0.999998       0.999997       0.999981   \n",
              "\n",
              "               var_47         var_48         var_49         var_50  \n",
              "count   215257.000000  215257.000000  215257.000000  215257.000000  \n",
              "unique            NaN            NaN            NaN            NaN  \n",
              "top               NaN            NaN            NaN            NaN  \n",
              "freq              NaN            NaN            NaN            NaN  \n",
              "mean         0.499781       0.500618       0.499476       0.499538  \n",
              "std          0.288411       0.288286       0.288685       0.288505  \n",
              "min          0.000008       0.000010       0.000017       0.000006  \n",
              "25%          0.249971       0.250336       0.248878       0.249740  \n",
              "50%          0.499138       0.502229       0.499258       0.499035  \n",
              "75%          0.749475       0.749817       0.749368       0.748715  \n",
              "max          0.999997       0.999994       0.999975       0.999997  \n",
              "\n",
              "[11 rows x 99 columns]"
            ],
            "text/html": [
              "\n",
              "  <div id=\"df-d990a1d1-f9a1-4a14-875a-e89da91222aa\" class=\"colab-df-container\">\n",
              "    <div>\n",
              "<style scoped>\n",
              "    .dataframe tbody tr th:only-of-type {\n",
              "        vertical-align: middle;\n",
              "    }\n",
              "\n",
              "    .dataframe tbody tr th {\n",
              "        vertical-align: top;\n",
              "    }\n",
              "\n",
              "    .dataframe thead th {\n",
              "        text-align: right;\n",
              "    }\n",
              "</style>\n",
              "<table border=\"1\" class=\"dataframe\">\n",
              "  <thead>\n",
              "    <tr style=\"text-align: right;\">\n",
              "      <th></th>\n",
              "      <th>SK_ID_CURR</th>\n",
              "      <th>TARGET</th>\n",
              "      <th>NAME_CONTRACT_TYPE</th>\n",
              "      <th>CODE_GENDER</th>\n",
              "      <th>FLAG_OWN_CAR</th>\n",
              "      <th>FLAG_OWN_REALTY</th>\n",
              "      <th>CNT_CHILDREN</th>\n",
              "      <th>AMT_INCOME_TOTAL</th>\n",
              "      <th>AMT_CREDIT</th>\n",
              "      <th>AMT_ANNUITY</th>\n",
              "      <th>...</th>\n",
              "      <th>var_41</th>\n",
              "      <th>var_42</th>\n",
              "      <th>var_43</th>\n",
              "      <th>var_44</th>\n",
              "      <th>var_45</th>\n",
              "      <th>var_46</th>\n",
              "      <th>var_47</th>\n",
              "      <th>var_48</th>\n",
              "      <th>var_49</th>\n",
              "      <th>var_50</th>\n",
              "    </tr>\n",
              "  </thead>\n",
              "  <tbody>\n",
              "    <tr>\n",
              "      <th>count</th>\n",
              "      <td>215257.000000</td>\n",
              "      <td>215257.000000</td>\n",
              "      <td>215257</td>\n",
              "      <td>215257</td>\n",
              "      <td>215257</td>\n",
              "      <td>215257</td>\n",
              "      <td>215257.000000</td>\n",
              "      <td>2.152570e+05</td>\n",
              "      <td>2.152570e+05</td>\n",
              "      <td>215249.000000</td>\n",
              "      <td>...</td>\n",
              "      <td>2.152570e+05</td>\n",
              "      <td>215257.000000</td>\n",
              "      <td>215257.000000</td>\n",
              "      <td>215257.000000</td>\n",
              "      <td>215257.000000</td>\n",
              "      <td>215257.000000</td>\n",
              "      <td>215257.000000</td>\n",
              "      <td>215257.000000</td>\n",
              "      <td>215257.000000</td>\n",
              "      <td>215257.000000</td>\n",
              "    </tr>\n",
              "    <tr>\n",
              "      <th>unique</th>\n",
              "      <td>NaN</td>\n",
              "      <td>NaN</td>\n",
              "      <td>2</td>\n",
              "      <td>3</td>\n",
              "      <td>2</td>\n",
              "      <td>2</td>\n",
              "      <td>NaN</td>\n",
              "      <td>NaN</td>\n",
              "      <td>NaN</td>\n",
              "      <td>NaN</td>\n",
              "      <td>...</td>\n",
              "      <td>NaN</td>\n",
              "      <td>NaN</td>\n",
              "      <td>NaN</td>\n",
              "      <td>NaN</td>\n",
              "      <td>NaN</td>\n",
              "      <td>NaN</td>\n",
              "      <td>NaN</td>\n",
              "      <td>NaN</td>\n",
              "      <td>NaN</td>\n",
              "      <td>NaN</td>\n",
              "    </tr>\n",
              "    <tr>\n",
              "      <th>top</th>\n",
              "      <td>NaN</td>\n",
              "      <td>NaN</td>\n",
              "      <td>Cash loans</td>\n",
              "      <td>F</td>\n",
              "      <td>N</td>\n",
              "      <td>Y</td>\n",
              "      <td>NaN</td>\n",
              "      <td>NaN</td>\n",
              "      <td>NaN</td>\n",
              "      <td>NaN</td>\n",
              "      <td>...</td>\n",
              "      <td>NaN</td>\n",
              "      <td>NaN</td>\n",
              "      <td>NaN</td>\n",
              "      <td>NaN</td>\n",
              "      <td>NaN</td>\n",
              "      <td>NaN</td>\n",
              "      <td>NaN</td>\n",
              "      <td>NaN</td>\n",
              "      <td>NaN</td>\n",
              "      <td>NaN</td>\n",
              "    </tr>\n",
              "    <tr>\n",
              "      <th>freq</th>\n",
              "      <td>NaN</td>\n",
              "      <td>NaN</td>\n",
              "      <td>194663</td>\n",
              "      <td>141565</td>\n",
              "      <td>141832</td>\n",
              "      <td>149519</td>\n",
              "      <td>NaN</td>\n",
              "      <td>NaN</td>\n",
              "      <td>NaN</td>\n",
              "      <td>NaN</td>\n",
              "      <td>...</td>\n",
              "      <td>NaN</td>\n",
              "      <td>NaN</td>\n",
              "      <td>NaN</td>\n",
              "      <td>NaN</td>\n",
              "      <td>NaN</td>\n",
              "      <td>NaN</td>\n",
              "      <td>NaN</td>\n",
              "      <td>NaN</td>\n",
              "      <td>NaN</td>\n",
              "      <td>NaN</td>\n",
              "    </tr>\n",
              "    <tr>\n",
              "      <th>mean</th>\n",
              "      <td>278236.387137</td>\n",
              "      <td>0.080889</td>\n",
              "      <td>NaN</td>\n",
              "      <td>NaN</td>\n",
              "      <td>NaN</td>\n",
              "      <td>NaN</td>\n",
              "      <td>0.416637</td>\n",
              "      <td>1.685568e+05</td>\n",
              "      <td>5.994960e+05</td>\n",
              "      <td>27119.681762</td>\n",
              "      <td>...</td>\n",
              "      <td>5.000397e-01</td>\n",
              "      <td>0.500387</td>\n",
              "      <td>0.499759</td>\n",
              "      <td>0.499714</td>\n",
              "      <td>0.500411</td>\n",
              "      <td>0.500602</td>\n",
              "      <td>0.499781</td>\n",
              "      <td>0.500618</td>\n",
              "      <td>0.499476</td>\n",
              "      <td>0.499538</td>\n",
              "    </tr>\n",
              "    <tr>\n",
              "      <th>std</th>\n",
              "      <td>102885.029589</td>\n",
              "      <td>0.272666</td>\n",
              "      <td>NaN</td>\n",
              "      <td>NaN</td>\n",
              "      <td>NaN</td>\n",
              "      <td>NaN</td>\n",
              "      <td>0.719695</td>\n",
              "      <td>1.058557e+05</td>\n",
              "      <td>4.028989e+05</td>\n",
              "      <td>14522.021876</td>\n",
              "      <td>...</td>\n",
              "      <td>2.886308e-01</td>\n",
              "      <td>0.288874</td>\n",
              "      <td>0.288854</td>\n",
              "      <td>0.288689</td>\n",
              "      <td>0.288678</td>\n",
              "      <td>0.288052</td>\n",
              "      <td>0.288411</td>\n",
              "      <td>0.288286</td>\n",
              "      <td>0.288685</td>\n",
              "      <td>0.288505</td>\n",
              "    </tr>\n",
              "    <tr>\n",
              "      <th>min</th>\n",
              "      <td>100003.000000</td>\n",
              "      <td>0.000000</td>\n",
              "      <td>NaN</td>\n",
              "      <td>NaN</td>\n",
              "      <td>NaN</td>\n",
              "      <td>NaN</td>\n",
              "      <td>0.000000</td>\n",
              "      <td>2.565000e+04</td>\n",
              "      <td>4.500000e+04</td>\n",
              "      <td>1615.500000</td>\n",
              "      <td>...</td>\n",
              "      <td>4.701627e-08</td>\n",
              "      <td>0.000002</td>\n",
              "      <td>0.000010</td>\n",
              "      <td>0.000005</td>\n",
              "      <td>0.000016</td>\n",
              "      <td>0.000004</td>\n",
              "      <td>0.000008</td>\n",
              "      <td>0.000010</td>\n",
              "      <td>0.000017</td>\n",
              "      <td>0.000006</td>\n",
              "    </tr>\n",
              "    <tr>\n",
              "      <th>25%</th>\n",
              "      <td>189025.000000</td>\n",
              "      <td>0.000000</td>\n",
              "      <td>NaN</td>\n",
              "      <td>NaN</td>\n",
              "      <td>NaN</td>\n",
              "      <td>NaN</td>\n",
              "      <td>0.000000</td>\n",
              "      <td>1.125000e+05</td>\n",
              "      <td>2.700000e+05</td>\n",
              "      <td>16506.000000</td>\n",
              "      <td>...</td>\n",
              "      <td>2.503571e-01</td>\n",
              "      <td>0.249831</td>\n",
              "      <td>0.249154</td>\n",
              "      <td>0.250009</td>\n",
              "      <td>0.250346</td>\n",
              "      <td>0.251720</td>\n",
              "      <td>0.249971</td>\n",
              "      <td>0.250336</td>\n",
              "      <td>0.248878</td>\n",
              "      <td>0.249740</td>\n",
              "    </tr>\n",
              "    <tr>\n",
              "      <th>50%</th>\n",
              "      <td>278215.000000</td>\n",
              "      <td>0.000000</td>\n",
              "      <td>NaN</td>\n",
              "      <td>NaN</td>\n",
              "      <td>NaN</td>\n",
              "      <td>NaN</td>\n",
              "      <td>0.000000</td>\n",
              "      <td>1.440000e+05</td>\n",
              "      <td>5.148675e+05</td>\n",
              "      <td>24903.000000</td>\n",
              "      <td>...</td>\n",
              "      <td>4.999917e-01</td>\n",
              "      <td>0.500096</td>\n",
              "      <td>0.500020</td>\n",
              "      <td>0.500167</td>\n",
              "      <td>0.500267</td>\n",
              "      <td>0.500931</td>\n",
              "      <td>0.499138</td>\n",
              "      <td>0.502229</td>\n",
              "      <td>0.499258</td>\n",
              "      <td>0.499035</td>\n",
              "    </tr>\n",
              "    <tr>\n",
              "      <th>75%</th>\n",
              "      <td>367388.000000</td>\n",
              "      <td>0.000000</td>\n",
              "      <td>NaN</td>\n",
              "      <td>NaN</td>\n",
              "      <td>NaN</td>\n",
              "      <td>NaN</td>\n",
              "      <td>1.000000</td>\n",
              "      <td>2.025000e+05</td>\n",
              "      <td>8.086500e+05</td>\n",
              "      <td>34650.000000</td>\n",
              "      <td>...</td>\n",
              "      <td>7.496017e-01</td>\n",
              "      <td>0.750930</td>\n",
              "      <td>0.749430</td>\n",
              "      <td>0.749317</td>\n",
              "      <td>0.750656</td>\n",
              "      <td>0.750341</td>\n",
              "      <td>0.749475</td>\n",
              "      <td>0.749817</td>\n",
              "      <td>0.749368</td>\n",
              "      <td>0.748715</td>\n",
              "    </tr>\n",
              "    <tr>\n",
              "      <th>max</th>\n",
              "      <td>456255.000000</td>\n",
              "      <td>1.000000</td>\n",
              "      <td>NaN</td>\n",
              "      <td>NaN</td>\n",
              "      <td>NaN</td>\n",
              "      <td>NaN</td>\n",
              "      <td>19.000000</td>\n",
              "      <td>1.350000e+07</td>\n",
              "      <td>4.050000e+06</td>\n",
              "      <td>258025.500000</td>\n",
              "      <td>...</td>\n",
              "      <td>9.999890e-01</td>\n",
              "      <td>0.999994</td>\n",
              "      <td>0.999988</td>\n",
              "      <td>0.999998</td>\n",
              "      <td>0.999997</td>\n",
              "      <td>0.999981</td>\n",
              "      <td>0.999997</td>\n",
              "      <td>0.999994</td>\n",
              "      <td>0.999975</td>\n",
              "      <td>0.999997</td>\n",
              "    </tr>\n",
              "  </tbody>\n",
              "</table>\n",
              "<p>11 rows × 99 columns</p>\n",
              "</div>\n",
              "    <div class=\"colab-df-buttons\">\n",
              "\n",
              "  <div class=\"colab-df-container\">\n",
              "    <button class=\"colab-df-convert\" onclick=\"convertToInteractive('df-d990a1d1-f9a1-4a14-875a-e89da91222aa')\"\n",
              "            title=\"Convert this dataframe to an interactive table.\"\n",
              "            style=\"display:none;\">\n",
              "\n",
              "  <svg xmlns=\"http://www.w3.org/2000/svg\" height=\"24px\" viewBox=\"0 -960 960 960\">\n",
              "    <path d=\"M120-120v-720h720v720H120Zm60-500h600v-160H180v160Zm220 220h160v-160H400v160Zm0 220h160v-160H400v160ZM180-400h160v-160H180v160Zm440 0h160v-160H620v160ZM180-180h160v-160H180v160Zm440 0h160v-160H620v160Z\"/>\n",
              "  </svg>\n",
              "    </button>\n",
              "\n",
              "  <style>\n",
              "    .colab-df-container {\n",
              "      display:flex;\n",
              "      gap: 12px;\n",
              "    }\n",
              "\n",
              "    .colab-df-convert {\n",
              "      background-color: #E8F0FE;\n",
              "      border: none;\n",
              "      border-radius: 50%;\n",
              "      cursor: pointer;\n",
              "      display: none;\n",
              "      fill: #1967D2;\n",
              "      height: 32px;\n",
              "      padding: 0 0 0 0;\n",
              "      width: 32px;\n",
              "    }\n",
              "\n",
              "    .colab-df-convert:hover {\n",
              "      background-color: #E2EBFA;\n",
              "      box-shadow: 0px 1px 2px rgba(60, 64, 67, 0.3), 0px 1px 3px 1px rgba(60, 64, 67, 0.15);\n",
              "      fill: #174EA6;\n",
              "    }\n",
              "\n",
              "    .colab-df-buttons div {\n",
              "      margin-bottom: 4px;\n",
              "    }\n",
              "\n",
              "    [theme=dark] .colab-df-convert {\n",
              "      background-color: #3B4455;\n",
              "      fill: #D2E3FC;\n",
              "    }\n",
              "\n",
              "    [theme=dark] .colab-df-convert:hover {\n",
              "      background-color: #434B5C;\n",
              "      box-shadow: 0px 1px 3px 1px rgba(0, 0, 0, 0.15);\n",
              "      filter: drop-shadow(0px 1px 2px rgba(0, 0, 0, 0.3));\n",
              "      fill: #FFFFFF;\n",
              "    }\n",
              "  </style>\n",
              "\n",
              "    <script>\n",
              "      const buttonEl =\n",
              "        document.querySelector('#df-d990a1d1-f9a1-4a14-875a-e89da91222aa button.colab-df-convert');\n",
              "      buttonEl.style.display =\n",
              "        google.colab.kernel.accessAllowed ? 'block' : 'none';\n",
              "\n",
              "      async function convertToInteractive(key) {\n",
              "        const element = document.querySelector('#df-d990a1d1-f9a1-4a14-875a-e89da91222aa');\n",
              "        const dataTable =\n",
              "          await google.colab.kernel.invokeFunction('convertToInteractive',\n",
              "                                                    [key], {});\n",
              "        if (!dataTable) return;\n",
              "\n",
              "        const docLinkHtml = 'Like what you see? Visit the ' +\n",
              "          '<a target=\"_blank\" href=https://colab.research.google.com/notebooks/data_table.ipynb>data table notebook</a>'\n",
              "          + ' to learn more about interactive tables.';\n",
              "        element.innerHTML = '';\n",
              "        dataTable['output_type'] = 'display_data';\n",
              "        await google.colab.output.renderOutput(dataTable, element);\n",
              "        const docLink = document.createElement('div');\n",
              "        docLink.innerHTML = docLinkHtml;\n",
              "        element.appendChild(docLink);\n",
              "      }\n",
              "    </script>\n",
              "  </div>\n",
              "\n",
              "\n",
              "<div id=\"df-a4bda269-54d2-49e7-bac4-85dc72811179\">\n",
              "  <button class=\"colab-df-quickchart\" onclick=\"quickchart('df-a4bda269-54d2-49e7-bac4-85dc72811179')\"\n",
              "            title=\"Suggest charts\"\n",
              "            style=\"display:none;\">\n",
              "\n",
              "<svg xmlns=\"http://www.w3.org/2000/svg\" height=\"24px\"viewBox=\"0 0 24 24\"\n",
              "     width=\"24px\">\n",
              "    <g>\n",
              "        <path d=\"M19 3H5c-1.1 0-2 .9-2 2v14c0 1.1.9 2 2 2h14c1.1 0 2-.9 2-2V5c0-1.1-.9-2-2-2zM9 17H7v-7h2v7zm4 0h-2V7h2v10zm4 0h-2v-4h2v4z\"/>\n",
              "    </g>\n",
              "</svg>\n",
              "  </button>\n",
              "\n",
              "<style>\n",
              "  .colab-df-quickchart {\n",
              "      --bg-color: #E8F0FE;\n",
              "      --fill-color: #1967D2;\n",
              "      --hover-bg-color: #E2EBFA;\n",
              "      --hover-fill-color: #174EA6;\n",
              "      --disabled-fill-color: #AAA;\n",
              "      --disabled-bg-color: #DDD;\n",
              "  }\n",
              "\n",
              "  [theme=dark] .colab-df-quickchart {\n",
              "      --bg-color: #3B4455;\n",
              "      --fill-color: #D2E3FC;\n",
              "      --hover-bg-color: #434B5C;\n",
              "      --hover-fill-color: #FFFFFF;\n",
              "      --disabled-bg-color: #3B4455;\n",
              "      --disabled-fill-color: #666;\n",
              "  }\n",
              "\n",
              "  .colab-df-quickchart {\n",
              "    background-color: var(--bg-color);\n",
              "    border: none;\n",
              "    border-radius: 50%;\n",
              "    cursor: pointer;\n",
              "    display: none;\n",
              "    fill: var(--fill-color);\n",
              "    height: 32px;\n",
              "    padding: 0;\n",
              "    width: 32px;\n",
              "  }\n",
              "\n",
              "  .colab-df-quickchart:hover {\n",
              "    background-color: var(--hover-bg-color);\n",
              "    box-shadow: 0 1px 2px rgba(60, 64, 67, 0.3), 0 1px 3px 1px rgba(60, 64, 67, 0.15);\n",
              "    fill: var(--button-hover-fill-color);\n",
              "  }\n",
              "\n",
              "  .colab-df-quickchart-complete:disabled,\n",
              "  .colab-df-quickchart-complete:disabled:hover {\n",
              "    background-color: var(--disabled-bg-color);\n",
              "    fill: var(--disabled-fill-color);\n",
              "    box-shadow: none;\n",
              "  }\n",
              "\n",
              "  .colab-df-spinner {\n",
              "    border: 2px solid var(--fill-color);\n",
              "    border-color: transparent;\n",
              "    border-bottom-color: var(--fill-color);\n",
              "    animation:\n",
              "      spin 1s steps(1) infinite;\n",
              "  }\n",
              "\n",
              "  @keyframes spin {\n",
              "    0% {\n",
              "      border-color: transparent;\n",
              "      border-bottom-color: var(--fill-color);\n",
              "      border-left-color: var(--fill-color);\n",
              "    }\n",
              "    20% {\n",
              "      border-color: transparent;\n",
              "      border-left-color: var(--fill-color);\n",
              "      border-top-color: var(--fill-color);\n",
              "    }\n",
              "    30% {\n",
              "      border-color: transparent;\n",
              "      border-left-color: var(--fill-color);\n",
              "      border-top-color: var(--fill-color);\n",
              "      border-right-color: var(--fill-color);\n",
              "    }\n",
              "    40% {\n",
              "      border-color: transparent;\n",
              "      border-right-color: var(--fill-color);\n",
              "      border-top-color: var(--fill-color);\n",
              "    }\n",
              "    60% {\n",
              "      border-color: transparent;\n",
              "      border-right-color: var(--fill-color);\n",
              "    }\n",
              "    80% {\n",
              "      border-color: transparent;\n",
              "      border-right-color: var(--fill-color);\n",
              "      border-bottom-color: var(--fill-color);\n",
              "    }\n",
              "    90% {\n",
              "      border-color: transparent;\n",
              "      border-bottom-color: var(--fill-color);\n",
              "    }\n",
              "  }\n",
              "</style>\n",
              "\n",
              "  <script>\n",
              "    async function quickchart(key) {\n",
              "      const quickchartButtonEl =\n",
              "        document.querySelector('#' + key + ' button');\n",
              "      quickchartButtonEl.disabled = true;  // To prevent multiple clicks.\n",
              "      quickchartButtonEl.classList.add('colab-df-spinner');\n",
              "      try {\n",
              "        const charts = await google.colab.kernel.invokeFunction(\n",
              "            'suggestCharts', [key], {});\n",
              "      } catch (error) {\n",
              "        console.error('Error during call to suggestCharts:', error);\n",
              "      }\n",
              "      quickchartButtonEl.classList.remove('colab-df-spinner');\n",
              "      quickchartButtonEl.classList.add('colab-df-quickchart-complete');\n",
              "    }\n",
              "    (() => {\n",
              "      let quickchartButtonEl =\n",
              "        document.querySelector('#df-a4bda269-54d2-49e7-bac4-85dc72811179 button');\n",
              "      quickchartButtonEl.style.display =\n",
              "        google.colab.kernel.accessAllowed ? 'block' : 'none';\n",
              "    })();\n",
              "  </script>\n",
              "</div>\n",
              "    </div>\n",
              "  </div>\n"
            ],
            "application/vnd.google.colaboratory.intrinsic+json": {
              "type": "dataframe"
            }
          },
          "metadata": {},
          "execution_count": 11
        }
      ]
    },
    {
      "cell_type": "markdown",
      "source": [
        "## Análise Exploratória de Dados (EDA)"
      ],
      "metadata": {
        "id": "XJkezXbjmBPX"
      }
    },
    {
      "cell_type": "markdown",
      "source": [
        "**Objetivo:**\n",
        "Realizar uma análise exploratória dos dados (EDA) da tabela principal do conjunto de dados disponibilizado com o intuito de entender melhor os padrões, tendências, e preparar o terreno para a modelagem."
      ],
      "metadata": {
        "id": "UxljIfan261d"
      }
    },
    {
      "cell_type": "markdown",
      "source": [
        "# Tipos de dados\n",
        "Para analisar os dados mais detalhadamente vamos conhecer melhor as variaveis:\n"
      ],
      "metadata": {
        "id": "EWouB06AzM-y"
      }
    },
    {
      "cell_type": "markdown",
      "metadata": {
        "id": "jvgXpXzMQm7_"
      },
      "source": [
        "###Quantidade de contratos na base de dados"
      ]
    },
    {
      "cell_type": "code",
      "source": [
        "spark.sql(\"\"\"\n",
        "select\n",
        "  count(SK_ID_CURR) as COUNT_ID\n",
        "from\n",
        "  df_application_train_V1\n",
        "\"\"\").show()"
      ],
      "metadata": {
        "colab": {
          "base_uri": "https://localhost:8080/"
        },
        "id": "oahIC6aduPrX",
        "outputId": "3695bfe9-690c-476e-ccef-2174dff9d89c"
      },
      "execution_count": 17,
      "outputs": [
        {
          "output_type": "stream",
          "name": "stdout",
          "text": [
            "+--------+\n",
            "|COUNT_ID|\n",
            "+--------+\n",
            "|  215257|\n",
            "+--------+\n",
            "\n"
          ]
        }
      ]
    },
    {
      "cell_type": "markdown",
      "metadata": {
        "id": "vj6bCMP2QtEN"
      },
      "source": [
        "###Análise da Variável Target\n",
        "Realizei uma consulta SQL para a variável `TARGET` que determina a porcentagem de \"bons\" e \"maus\" clientes na base de dados, esta variavel clusteriza os clientes em:\n",
        "\n",
        "\n",
        "*  0  Significa Bom Pagador\n",
        "*  1  Significa Ruim Pagador\n",
        "\n",
        "\n"
      ]
    },
    {
      "cell_type": "code",
      "execution_count": 19,
      "metadata": {
        "colab": {
          "base_uri": "https://localhost:8080/"
        },
        "id": "f3djW26vIP9L",
        "outputId": "11ae717b-8852-4440-ba3e-0a33784b3ca2"
      },
      "outputs": [
        {
          "output_type": "stream",
          "name": "stdout",
          "text": [
            "+------+------+-----------+\n",
            "|TARGET| TOTAL|PORCENTAGEM|\n",
            "+------+------+-----------+\n",
            "|     1| 17412|       8.09|\n",
            "|     0|197845|      91.91|\n",
            "+------+------+-----------+\n",
            "\n"
          ]
        }
      ],
      "source": [
        "resultado_target=spark.sql(\"\"\"\n",
        "select\n",
        "  TARGET,\n",
        "  count(*) as TOTAL,\n",
        "  round(count(*)* 100/ (select count(*)from df_application_train_V1),2) as PORCENTAGEM\n",
        "from\n",
        "  df_application_train_V1\n",
        "group by\n",
        "  TARGET;\n",
        "\"\"\").show()"
      ]
    },
    {
      "cell_type": "code",
      "source": [
        "# Contar os valores únicos da variável target\n",
        "contagem_target = df_application_train_V1['TARGET'].value_counts()\n",
        "\n",
        "# Preparar os dados para o gráfico de pizza\n",
        "labels = contagem_target.index\n",
        "sizes = contagem_target.values\n",
        "\n",
        "# Cores personalizadas\n",
        "cores = '#006400','#800000'\n",
        "#0B86E3 #1B365C\n",
        "# Criar o gráfico de pizza\n",
        "plt.figure(figsize=(6, 6))\n",
        "plt.pie(sizes, labels=labels, autopct='%1.1f%%', startangle=140, colors=cores)\n",
        "plt.title('Distribuição da Variável Target')\n",
        "plt.axis('equal')  # Garante que o gráfico seja um círculo\n",
        "plt.show()\n"
      ],
      "metadata": {
        "colab": {
          "base_uri": "https://localhost:8080/",
          "height": 521
        },
        "id": "cUuCHMK5jdj3",
        "outputId": "8fad5bea-1a60-45b4-d5ca-a02f1a0141b8"
      },
      "execution_count": 20,
      "outputs": [
        {
          "output_type": "display_data",
          "data": {
            "text/plain": [
              "<Figure size 600x600 with 1 Axes>"
            ],
            "image/png": "[encoded data removed]"
          },
          "metadata": {}
        }
      ]
    },
    {
      "cell_type": "markdown",
      "source": [
        "Na base de dados, a maioria dos clientes é clusterizada como **\"bons pagadores\", representando 92 % do total** (TARGET 0), enquanto cerca de 9% são identificados como \"maus pagadores\" (TARGET 1)."
      ],
      "metadata": {
        "id": "fmeUzNE6MMKo"
      }
    },
    {
      "cell_type": "markdown",
      "source": [
        "### Análise da Variável Idade"
      ],
      "metadata": {
        "id": "rTR3yZpp_0Zp"
      }
    },
    {
      "cell_type": "code",
      "source": [
        "spark.sql(\"\"\"\n",
        "select\n",
        "    min(round(abs(DAYS_BIRTH) / 365, 0)) as MIN_IDADE,\n",
        "    round(avg(round(abs(DAYS_BIRTH) / 365, 2)),0) as MEDIA_IDADE,\n",
        "    max(round(abs(DAYS_BIRTH) / 365, 0)) as MAX_IDADE\n",
        "from\n",
        "    df_application_train_V1\n",
        "\"\"\").show()\n"
      ],
      "metadata": {
        "colab": {
          "base_uri": "https://localhost:8080/"
        },
        "id": "1XrrkLbvGL_X",
        "outputId": "734d37ee-4892-4053-d1d0-4f2d6656fa90"
      },
      "execution_count": 22,
      "outputs": [
        {
          "output_type": "stream",
          "name": "stdout",
          "text": [
            "+---------+-----------+---------+\n",
            "|MIN_IDADE|MEDIA_IDADE|MAX_IDADE|\n",
            "+---------+-----------+---------+\n",
            "|     21.0|       44.0|     69.0|\n",
            "+---------+-----------+---------+\n",
            "\n"
          ]
        }
      ]
    },
    {
      "cell_type": "markdown",
      "source": [
        "A base de clientes apresenta range de idades bem abrangente, temos um publico com diversas faixas etárias.\n",
        "\n",
        "Levantamento da hipotese de relação entre idade e inadimplência?\n",
        "\n",
        "\n"
      ],
      "metadata": {
        "id": "3JToq69F4Rsi"
      }
    },
    {
      "cell_type": "markdown",
      "source": [
        "####Análise da Relação da Idade com Target\n",
        "Para responder a hipotese acima, foi realizado uma consulta para entender a relação entre idade e o Target."
      ],
      "metadata": {
        "id": "PXYpSKMgFdo2"
      }
    },
    {
      "cell_type": "code",
      "source": [
        "df_idade_target = spark.sql(\"\"\"\n",
        "select\n",
        "  TARGET,\n",
        "   case\n",
        "        when AGE >= 20 and age < 30 then '20-29'\n",
        "        when AGE >= 30 and age < 40 then '30-39'\n",
        "        when AGE >= 40 and age < 50 then '40-49'\n",
        "        when AGE >= 50 and age < 60 then '50-59'\n",
        "        else '60+'\n",
        "    end as FAIXA_IDADE,\n",
        "    count(*) as QUANT_CLIENTES\n",
        "from (\n",
        "    select\n",
        "        TARGET,\n",
        "        round(abs(DAYS_BIRTH) / 365) as AGE\n",
        "    from\n",
        "        df_application_train_V1\n",
        ") temp\n",
        "group by\n",
        "    TARGET,\n",
        "    FAIXA_IDADE\n",
        "order by\n",
        "    TARGET,\n",
        "    FAIXA_IDADE\n",
        "\"\"\")\n",
        "df_idade_target.show()\n"
      ],
      "metadata": {
        "colab": {
          "base_uri": "https://localhost:8080/"
        },
        "id": "IY_DP6nyAha6",
        "outputId": "23c39920-573b-4731-f539-ab35b4d26fbc"
      },
      "execution_count": 23,
      "outputs": [
        {
          "output_type": "stream",
          "name": "stdout",
          "text": [
            "+------+-----------+--------------+\n",
            "|TARGET|FAIXA_IDADE|QUANT_CLIENTES|\n",
            "+------+-----------+--------------+\n",
            "|     0|      20-29|         25480|\n",
            "|     0|      30-39|         51817|\n",
            "|     0|      40-49|         49968|\n",
            "|     0|      50-59|         44753|\n",
            "|     0|        60+|         25827|\n",
            "|     1|      20-29|          3337|\n",
            "|     1|      30-39|          5558|\n",
            "|     1|      40-49|          4218|\n",
            "|     1|      50-59|          2936|\n",
            "|     1|        60+|          1363|\n",
            "+------+-----------+--------------+\n",
            "\n"
          ]
        }
      ]
    },
    {
      "cell_type": "code",
      "source": [
        "# Filtrar os dados para o alvo 1\n",
        "df_idade_target1 = df_idade_target.filter(df_idade_target['TARGET'] == 1)\n",
        "\n",
        "# Extrair os dados do DataFrame\n",
        "faixas_idade = df_idade_target1.select('FAIXA_IDADE').rdd.flatMap(lambda x: x).collect()\n",
        "quantidades_clientes = df_idade_target1.select('QUANT_CLIENTES').rdd.flatMap(lambda x: x).collect()\n",
        "\n",
        "# Criar o gráfico de barras\n",
        "\n",
        "plt.figure(figsize=(6, 4))\n",
        "plt.bar(faixas_idade, quantidades_clientes, color='#4F4F4F')\n",
        "plt.title('Distribuição de Idade por Faixa para Inadimplentes')\n",
        "plt.xticks(rotation=45)\n",
        "plt.tight_layout()\n",
        "plt.show()\n",
        "\n",
        "\n",
        "\n",
        "# Filtrar os dados para o alvo 0\n",
        "df_idade_target1 = df_idade_target.filter(df_idade_target['TARGET'] == 0)\n",
        "\n",
        "# Extrair os dados do DataFrame\n",
        "faixas_idade = df_idade_target1.select('FAIXA_IDADE').rdd.flatMap(lambda x: x).collect()\n",
        "quantidades_clientes = df_idade_target1.select('QUANT_CLIENTES').rdd.flatMap(lambda x: x).collect()\n",
        "\n",
        "# Criar o gráfico de barras\n",
        "\n",
        "plt.figure(figsize=(6, 4))\n",
        "plt.bar(faixas_idade, quantidades_clientes, color='#4682B4')\n",
        "plt.title('Distribuição de Idade por Faixa para Bons Pagadores')\n",
        "plt.xticks(rotation=45)\n",
        "plt.tight_layout()\n",
        "plt.show()\n"
      ],
      "metadata": {
        "colab": {
          "base_uri": "https://localhost:8080/",
          "height": 797
        },
        "id": "RzM2EdvJ54zl",
        "outputId": "9c73e83c-1d63-4a6e-ba78-4b12e775aa70"
      },
      "execution_count": 25,
      "outputs": [
        {
          "output_type": "display_data",
          "data": {
            "text/plain": [
              "<Figure size 600x400 with 1 Axes>"
            ],
            "image/png": "[encoded data removed]"
          },
          "metadata": {}
        },
        {
          "output_type": "display_data",
          "data": {
            "text/plain": [
              "<Figure size 600x400 with 1 Axes>"
            ],
            "image/png": "[encoded data removed]"
          },
          "metadata": {}
        }
      ]
    },
    {
      "cell_type": "markdown",
      "source": [
        "A faixa etária com mais clientes inadimplentes está na faixa de 30-39 anos, representando 32% da base total de inadimplentes\n",
        "\n",
        "Aqui temos um ponto de atenção, pois 27% da base total de clientes esta nesta faixa.\n",
        "\n"
      ],
      "metadata": {
        "id": "kR5sy8CA9Y3V"
      }
    },
    {
      "cell_type": "markdown",
      "metadata": {
        "id": "5WeC-EYXQ_n9"
      },
      "source": [
        "###Análise da Variável Tipo de Contrato"
      ]
    },
    {
      "cell_type": "code",
      "execution_count": 33,
      "metadata": {
        "colab": {
          "base_uri": "https://localhost:8080/"
        },
        "id": "vyeiSSUsMyvH",
        "outputId": "43a0a2f0-5280-4522-b4fc-3c72dd7c5658"
      },
      "outputs": [
        {
          "output_type": "stream",
          "name": "stdout",
          "text": [
            "+------------------+-------------+-----------+\n",
            "|NAME_CONTRACT_TYPE|tipo_contrato|PORCENTAGEM|\n",
            "+------------------+-------------+-----------+\n",
            "|   Revolving loans|        20594|       9.57|\n",
            "|        Cash loans|       194663|      90.43|\n",
            "+------------------+-------------+-----------+\n",
            "\n"
          ]
        }
      ],
      "source": [
        "df_tipo_contrato = spark.sql(\"\"\"\n",
        "select\n",
        "  NAME_CONTRACT_TYPE,\n",
        "  count(*) as tipo_contrato,\n",
        "  round(count(*)* 100/ (select count(*)from df_application_train),2) as PORCENTAGEM\n",
        "from\n",
        "  df_application_train_V1\n",
        "group by\n",
        "  NAME_CONTRACT_TYPE;\n",
        "\"\"\")\n",
        "df_tipo_contrato.show()"
      ]
    },
    {
      "cell_type": "markdown",
      "source": [
        "**Revolving Loans:** Crédito concedido através de um cartão de créditocom prazo de renovação.\n",
        "\n",
        "**Cash Loans** Modalidade de emprestimo em dinheiro."
      ],
      "metadata": {
        "id": "wr954TuNtJGs"
      }
    },
    {
      "cell_type": "markdown",
      "source": [
        "####Visualização da Variável Tipo de Contrato"
      ],
      "metadata": {
        "id": "yV4g20y8vkxu"
      }
    },
    {
      "cell_type": "code",
      "source": [
        "# Obter os resultados da consulta\n",
        "df_tipo_contrato01 = df_tipo_contrato.toPandas()\n",
        "\n",
        "# Criar o gráfico de barras\n",
        "plt.figure(figsize=(6, 4))\n",
        "barras = plt.bar(df_tipo_contrato01['NAME_CONTRACT_TYPE'], df_tipo_contrato01['PORCENTAGEM'], color='#2F4F4F',width=0.5)\n",
        "\n",
        "# Adicionar as porcentagens em cada barra\n",
        "for barra in barras:\n",
        "    altura = barra.get_height()\n",
        "    plt.text(barra.get_x() + barra.get_width() / 2, altura, f'{altura}%', ha='center', va='bottom')\n",
        "\n",
        "# Definir rótulos e título\n",
        "\n",
        "plt.title('Número de Contratos por Tipo')\n",
        "\n",
        "# Ajustar o layout\n",
        "plt.xticks(rotation=0)\n",
        "plt.tight_layout()\n",
        "# Remover rótulos do eixo x\n",
        "plt.yticks([])\n",
        "# Exibir o gráfico\n",
        "plt.show()"
      ],
      "metadata": {
        "colab": {
          "base_uri": "https://localhost:8080/",
          "height": 407
        },
        "outputId": "ab2197b0-1613-4753-ff04-561ef9c3c9e1",
        "id": "4r1rivhRvkxw"
      },
      "execution_count": 40,
      "outputs": [
        {
          "output_type": "display_data",
          "data": {
            "text/plain": [
              "<Figure size 600x400 with 1 Axes>"
            ],
            "image/png": "[encoded data removed]"
          },
          "metadata": {}
        }
      ]
    },
    {
      "cell_type": "markdown",
      "source": [
        "####Análise da Relação entre Tipo de Contrato e Target\n",
        "\n",
        "\n",
        "\n",
        "A consulta em SQL abaixo, foi realizada para entender a relação entre o tipo de contrato e o Target de Bom Pagadores(Target 0) ou Inadimplentes(Tarent 1), calculando a porcentagem da variável para cada tipo de contrato.\n",
        "\n"
      ],
      "metadata": {
        "id": "_COmhF_ymywG"
      }
    },
    {
      "cell_type": "code",
      "source": [
        "df_contrato_target = spark.sql(\"\"\"\n",
        "select\n",
        "    NAME_CONTRACT_TYPE,\n",
        "    TARGET,\n",
        "    count(*) as QUANT_CLIENTES,\n",
        "    round(count(*) * 100 / sum(count(*)) over (partition by NAME_CONTRACT_TYPE), 2) as PORCENTAGEM\n",
        "from\n",
        "    df_application_train_V1\n",
        "group by\n",
        "    NAME_CONTRACT_TYPE,\n",
        "    TARGET\n",
        "\"\"\")\n",
        "df_contrato_target.show()"
      ],
      "metadata": {
        "colab": {
          "base_uri": "https://localhost:8080/"
        },
        "id": "XEl_GlGD7jjb",
        "outputId": "f4fc1ae5-ab0e-4802-dba0-1b0502608230"
      },
      "execution_count": 35,
      "outputs": [
        {
          "output_type": "stream",
          "name": "stdout",
          "text": [
            "+------------------+------+--------------+-----------+\n",
            "|NAME_CONTRACT_TYPE|TARGET|QUANT_CLIENTES|PORCENTAGEM|\n",
            "+------------------+------+--------------+-----------+\n",
            "|        Cash loans|     0|        178371|      91.63|\n",
            "|        Cash loans|     1|         16292|       8.37|\n",
            "|   Revolving loans|     1|          1120|       5.44|\n",
            "|   Revolving loans|     0|         19474|      94.56|\n",
            "+------------------+------+--------------+-----------+\n",
            "\n"
          ]
        }
      ]
    },
    {
      "cell_type": "markdown",
      "source": [
        "####Visualização da Variável Tipo de Contrato em Relação ao Target"
      ],
      "metadata": {
        "id": "lEZzXgibBnev"
      }
    },
    {
      "cell_type": "code",
      "source": [
        "# Converter o DataFrame Spark para um DataFrame Pandas\n",
        "df_contrato_target01 = df_contrato_target.toPandas()\n",
        "\n",
        "# Plotar o gráfico de barras\n",
        "plt.figure(figsize=(6, 4))\n",
        "sns.barplot(data=df_contrato_target01, x='NAME_CONTRACT_TYPE', y='QUANT_CLIENTES', hue='TARGET')\n",
        "\n",
        "# Definir título\n",
        "plt.title('Distribuição das Classes do Target por Tipo de Contrato')\n",
        "\n",
        "# Remover os títulos dos eixos x e y\n",
        "plt.xlabel('Tipo de Contrato')\n",
        "plt.ylabel('')\n",
        "\n",
        "# Mostrar o gráfico\n",
        "plt.xticks(rotation=0)\n",
        "plt.legend(title='Target', loc='upper right')\n",
        "plt.tight_layout()\n",
        "plt.show()"
      ],
      "metadata": {
        "colab": {
          "base_uri": "https://localhost:8080/",
          "height": 407
        },
        "id": "GehGJ6iZ7oqS",
        "outputId": "9c0ffc5b-97f4-4d5b-a52b-4135db542723"
      },
      "execution_count": 39,
      "outputs": [
        {
          "output_type": "display_data",
          "data": {
            "text/plain": [
              "<Figure size 600x400 with 1 Axes>"
            ],
            "image/png": "[encoded data removed]"
          },
          "metadata": {}
        }
      ]
    },
    {
      "cell_type": "markdown",
      "source": [
        "\n",
        "\n",
        "\n",
        "\n",
        "A modalidade de crédito cash loans representa 90% dos contratos, uma hipotese é a modalidade revolving não ser tão conhecida e possui juros mais altos.\n",
        "\n",
        "Como a maioria da base de clientes que utilizam a modalidade cash loans, tem,os também uma grande concentração de clientes inadimplêntes(8%)"
      ],
      "metadata": {
        "id": "TBOr5JSTJE6o"
      }
    },
    {
      "cell_type": "markdown",
      "metadata": {
        "id": "P6cdrMdx88jl"
      },
      "source": [
        "###Análise da Variável Renda Total\n",
        "\n",
        "Essa consulta analise a media, minimo maximo da renda do cliente, retirando um missing values de '1.35E7'"
      ]
    },
    {
      "cell_type": "code",
      "execution_count": 42,
      "metadata": {
        "colab": {
          "base_uri": "https://localhost:8080/"
        },
        "id": "HjWJ02BnRN7B",
        "outputId": "fddb43ce-5bd2-45a0-f9f6-bd1eb95020e6"
      },
      "outputs": [
        {
          "output_type": "stream",
          "name": "stdout",
          "text": [
            "+---------+---------+---------+\n",
            "|MED_RENDA|MIN_RENDA|MAX_RENDA|\n",
            "+---------+---------+---------+\n",
            "|168494.92|  25650.0|9000000.0|\n",
            "+---------+---------+---------+\n",
            "\n"
          ]
        }
      ],
      "source": [
        "spark.sql(\"\"\"\n",
        "select\n",
        "    round(avg(AMT_INCOME_TOTAL),2) as MED_RENDA,\n",
        "    round(min(AMT_INCOME_TOTAL),2) as MIN_RENDA,\n",
        "    round(max(AMT_INCOME_TOTAL),2) as MAX_RENDA\n",
        "from\n",
        "    df_application_train_V1\n",
        "where\n",
        "    AMT_INCOME_TOTAL != '1.35E7'\n",
        "\"\"\").show()"
      ]
    },
    {
      "cell_type": "markdown",
      "source": [
        "####Visualização da Relação entre Renda Total e Target\n",
        "\n"
      ],
      "metadata": {
        "id": "683zMPI5oO7S"
      }
    },
    {
      "cell_type": "code",
      "source": [
        "# Filtrar o DataFrame para excluir o valor 1.35E7 na coluna 'AMT_INCOME_TOTAL'\n",
        "df_application_train_01 = df_application_train_V1[df_application_train_V1['AMT_INCOME_TOTAL'] != 1.35E7]\n",
        "\n",
        "# Criar o boxplot\n",
        "plt.figure(figsize=(6, 4))\n",
        "sns.boxplot(data=df_application_train, x='TARGET', y='AMT_INCOME_TOTAL')\n",
        "\n",
        "# Definir título\n",
        "\n",
        "plt.title('Relação entre Renda Total e Target Sem Tratamento')\n",
        "\n",
        "# Remover os títulos dos eixos x e y\n",
        "plt.xlabel('')\n",
        "plt.ylabel('')\n",
        "\n",
        "# Mostrar o gráfico\n",
        "plt.xticks(ticks=[0, 1], labels=['\"Bons pagadores\"', '\"Inadimplentes\"'])\n",
        "plt.tight_layout()\n",
        "plt.show()"
      ],
      "metadata": {
        "colab": {
          "base_uri": "https://localhost:8080/",
          "height": 391
        },
        "id": "yEJ9TAnYbpgp",
        "outputId": "1b692667-b0e2-40c1-a50a-ea54e524c90c"
      },
      "execution_count": 48,
      "outputs": [
        {
          "output_type": "display_data",
          "data": {
            "text/plain": [
              "<Figure size 600x400 with 1 Axes>"
            ],
            "image/png": "[encoded data removed]"
          },
          "metadata": {}
        }
      ]
    },
    {
      "cell_type": "code",
      "source": [
        "# Filtrar o DataFrame para excluir o valor 1.35E7 na coluna 'AMT_INCOME_TOTAL'\n",
        "df_application_train_01 = df_application_train_V1[df_application_train_V1['AMT_INCOME_TOTAL'] != 1.35E7]\n",
        "\n",
        "# Criar o boxplot\n",
        "plt.figure(figsize=(6, 4))\n",
        "sns.boxplot(data=df_application_train, x='TARGET', y='AMT_INCOME_TOTAL', showfliers=False)\n",
        "\n",
        "# Definir título\n",
        "\n",
        "plt.title('Relação entre Renda Total e Target Sem Outliers')\n",
        "\n",
        "# Remover os títulos dos eixos x e y\n",
        "plt.xlabel('')\n",
        "plt.ylabel('')\n",
        "\n",
        "# Mostrar o gráfico\n",
        "plt.xticks(ticks=[0, 1], labels=['Bons pagadores', 'Inadimplentes'])\n",
        "plt.tight_layout()\n",
        "plt.show()\n"
      ],
      "metadata": {
        "colab": {
          "base_uri": "https://localhost:8080/",
          "height": 407
        },
        "id": "X8KKLwm-Lp9F",
        "outputId": "0aeacebd-d36d-47d0-9d4c-00ad9204bdd8"
      },
      "execution_count": 50,
      "outputs": [
        {
          "output_type": "display_data",
          "data": {
            "text/plain": [
              "<Figure size 600x400 with 1 Axes>"
            ],
            "image/png": "[encoded data removed]"
          },
          "metadata": {}
        }
      ]
    },
    {
      "cell_type": "markdown",
      "source": [
        "\n",
        "No primeiro gráfico boxplot, temos a presença de outliers nos clientes classificados como 'Bons pagadores', indicando uma dispersão incomum nos valores de renda total para esse grupo.\n",
        "\n",
        "No segundo boxplot, após o ajuste e eliminação dos valores atípicos, nota-se que a mediana da renda total dos clientes 'Bons pagadores' está acima da mediana dos clientes 'Inadimplentes'. Isso indica que, em geral, os clientes classificados como 'Bons pagadores' tendem a ter uma renda total mais elevada em comparação com os clientes 'Inadimplentes', conforme mostrado pela posição das medianas nos boxplots.\n"
      ],
      "metadata": {
        "id": "1xqqAvGTJEtx"
      }
    },
    {
      "cell_type": "markdown",
      "source": [
        "####Análise da Relação entre Renda Total por faixa e Target"
      ],
      "metadata": {
        "id": "d0-_5qeQA6kc"
      }
    },
    {
      "cell_type": "code",
      "source": [
        "df_renda_target02 = spark.sql(\"\"\"\n",
        "select\n",
        "    t.FAIXA_RENDA,\n",
        "    TARGET,\n",
        "    count(*) as QUANT_CLIENTES,\n",
        "    round(100 * count(*) / TOTAL_CLIENTES_FAIXA, 0) as PORCENTAGEM\n",
        "from (\n",
        "    select\n",
        "        case\n",
        "            when AMT_INCOME_TOTAL <= 50000 then 'faixa 1: até 50.000'\n",
        "            when AMT_INCOME_TOTAL <= 100000 then 'faixa 2: 50.001 - 100.000'\n",
        "            when AMT_INCOME_TOTAL <= 150000 then 'faixa 3: 100.001 - 150.000'\n",
        "            when AMT_INCOME_TOTAL <= 200000 then 'faixa 4: 150.001 - 200.000'\n",
        "            else 'faixa 5: mais de 200.000'\n",
        "        end as FAIXA_RENDA,\n",
        "        TARGET\n",
        "    from\n",
        "        df_application_train_V1\n",
        ") t\n",
        "join (\n",
        "    select\n",
        "        case\n",
        "            when AMT_INCOME_TOTAL <= 50000 then 'faixa 1: até 50.000'\n",
        "            when AMT_INCOME_TOTAL <= 100000 then 'faixa 2: 50.001 - 100.000'\n",
        "            when AMT_INCOME_TOTAL <= 150000 then 'faixa 3: 100.001 - 150.000'\n",
        "            when AMT_INCOME_TOTAL <= 200000 then 'faixa 4: 150.001 - 200.000'\n",
        "            else 'faixa 5: mais de 200.000'\n",
        "        end as FAIXA_RENDA,\n",
        "        count(*) as TOTAL_CLIENTES_FAIXA\n",
        "    from\n",
        "        df_application_train_V1\n",
        "    group by\n",
        "        FAIXA_RENDA\n",
        ") TOTAL_CLIENTES on t.FAIXA_RENDA = TOTAL_CLIENTES.FAIXA_RENDA\n",
        "group by\n",
        "    t.FAIXA_RENDA,\n",
        "    TARGET,\n",
        "    TOTAL_CLIENTES_FAIXA\n",
        "order by\n",
        "    t.FAIXA_RENDA,\n",
        "    TARGET;\n",
        "\"\"\")\n",
        "df_renda_target02.show()"
      ],
      "metadata": {
        "colab": {
          "base_uri": "https://localhost:8080/"
        },
        "id": "ZPOa_kFZZ1OB",
        "outputId": "de71b392-8abd-4883-e3ba-f0b3fc76ede9"
      },
      "execution_count": 54,
      "outputs": [
        {
          "output_type": "stream",
          "name": "stdout",
          "text": [
            "+--------------------+------+--------------+-----------+\n",
            "|         FAIXA_RENDA|TARGET|QUANT_CLIENTES|PORCENTAGEM|\n",
            "+--------------------+------+--------------+-----------+\n",
            "| faixa 1: até 50.000|     0|          2905|       92.0|\n",
            "| faixa 1: até 50.000|     1|           240|        8.0|\n",
            "|faixa 2: 50.001 -...|     0|         38123|       92.0|\n",
            "|faixa 2: 50.001 -...|     1|          3411|        8.0|\n",
            "|faixa 3: 100.001 ...|     0|         58655|       91.0|\n",
            "|faixa 3: 100.001 ...|     1|          5526|        9.0|\n",
            "|faixa 4: 150.001 ...|     0|         40898|       91.0|\n",
            "|faixa 4: 150.001 ...|     1|          3854|        9.0|\n",
            "|faixa 5: mais de ...|     0|         57264|       93.0|\n",
            "|faixa 5: mais de ...|     1|          4381|        7.0|\n",
            "+--------------------+------+--------------+-----------+\n",
            "\n"
          ]
        }
      ]
    },
    {
      "cell_type": "markdown",
      "source": [
        "####Visualização da Variável Renda Total por Faixa e a Relação com Target"
      ],
      "metadata": {
        "id": "sxlmcfYjBYcS"
      }
    },
    {
      "cell_type": "code",
      "source": [
        "# Converter o DataFrame do Spark para um DataFrame do Pandas\n",
        "df_pandas = df_renda_target02.toPandas()\n",
        "\n",
        "# Pivotar os dados para ter as faixas de renda como índices\n",
        "df_pivot = df_pandas.pivot(index='FAIXA_RENDA', columns='TARGET', values='PORCENTAGEM')\n",
        "\n",
        "# Criar o gráfico de barras empilhadas 100% horizontal\n",
        "plt.figure(figsize=(8, 6))\n",
        "ax = df_pivot.plot(kind='barh', stacked=True)\n",
        "\n",
        "# Adicionar rótulos de porcentagem nas barras\n",
        "for p in ax.patches:\n",
        "    width, height = p.get_width(), p.get_height()\n",
        "    x, y = p.get_xy()\n",
        "    ax.annotate(f'{width:.2f}%', (x + width/2, y + height/2), ha='center', va='center', fontsize= 8, rotation = 45)\n",
        "\n",
        "# Adicionar título\n",
        "plt.title('Relação entre Faixa de Renda e Target')\n",
        "\n",
        "# Remover rótulos do eixo x\n",
        "plt.xticks([])\n",
        "\n",
        "# Remover os títulos dos eixos x e y\n",
        "plt.xlabel('')\n",
        "plt.ylabel('')\n",
        "\n",
        "# Exibir a legenda fora do gráfico\n",
        "plt.legend(title='Target', bbox_to_anchor=(0, -0.3), loc='lower left')\n",
        "\n",
        "# Exibir o gráfico\n",
        "plt.tight_layout()\n",
        "plt.show()"
      ],
      "metadata": {
        "colab": {
          "base_uri": "https://localhost:8080/",
          "height": 491
        },
        "id": "juqrrRZqiMps",
        "outputId": "327577d9-3e0b-44fe-b7f9-da87f0801057"
      },
      "execution_count": 55,
      "outputs": [
        {
          "output_type": "display_data",
          "data": {
            "text/plain": [
              "<Figure size 800x600 with 0 Axes>"
            ]
          },
          "metadata": {}
        },
        {
          "output_type": "display_data",
          "data": {
            "text/plain": [
              "<Figure size 640x480 with 1 Axes>"
            ],
            "image/png": "[encoded data removed]"
          },
          "metadata": {}
        }
      ]
    },
    {
      "cell_type": "markdown",
      "source": [
        "A relação de faixa de renda e inadimplencia permanece flat, sem grandes variações.\n"
      ],
      "metadata": {
        "id": "ILNYnEK30Tz0"
      }
    },
    {
      "cell_type": "markdown",
      "source": [
        "###Análise da Variável Posse de Carro pelo Cliente"
      ],
      "metadata": {
        "id": "JcB3ao8ENWjI"
      }
    },
    {
      "cell_type": "code",
      "source": [
        "spark.sql(\"\"\"\n",
        "select\n",
        "    FLAG_OWN_CAR as POSSUI_CARRO,\n",
        "    count(*) as CLIENTES,\n",
        "    round(count(*)* 100/ (select count(*)from df_application_train_V1),0) as PORCENTAGEM\n",
        "from\n",
        "    df_application_train_V1\n",
        "group by\n",
        "    FLAG_OWN_CAR;\n",
        "\"\"\").show()"
      ],
      "metadata": {
        "colab": {
          "base_uri": "https://localhost:8080/"
        },
        "id": "bDnY9zNyMusu",
        "outputId": "e9588be8-5ca9-4afb-a12b-823b8e8608fe"
      },
      "execution_count": 58,
      "outputs": [
        {
          "output_type": "stream",
          "name": "stdout",
          "text": [
            "+------------+--------+-----------+\n",
            "|POSSUI_CARRO|CLIENTES|PORCENTAGEM|\n",
            "+------------+--------+-----------+\n",
            "|           Y|   73425|       34.0|\n",
            "|           N|  141832|       66.0|\n",
            "+------------+--------+-----------+\n",
            "\n"
          ]
        }
      ]
    },
    {
      "cell_type": "markdown",
      "metadata": {
        "id": "KxcZE3xI9Cru"
      },
      "source": [
        "#### Análise da Posse de Carro pelo Cliente e a Relação com Target"
      ]
    },
    {
      "cell_type": "code",
      "execution_count": 60,
      "metadata": {
        "colab": {
          "base_uri": "https://localhost:8080/"
        },
        "id": "zuwD4sJeSlXA",
        "outputId": "e3408562-be8b-4990-a876-dba81de98415"
      },
      "outputs": [
        {
          "output_type": "stream",
          "name": "stdout",
          "text": [
            "+------+------------+--------+-----------+\n",
            "|TARGET|POSSUI_CARRO|CLIENTES|PORCENTAGEM|\n",
            "+------+------------+--------+-----------+\n",
            "|     0|           N|  129720|       91.0|\n",
            "|     1|           N|   12112|        9.0|\n",
            "|     0|           Y|   68125|       93.0|\n",
            "|     1|           Y|    5300|        7.0|\n",
            "+------+------------+--------+-----------+\n",
            "\n"
          ]
        }
      ],
      "source": [
        "df_carro_target = spark.sql(\"\"\"\n",
        "select\n",
        "    TARGET,\n",
        "    FLAG_OWN_CAR as POSSUI_CARRO,\n",
        "    count(*) as CLIENTES,\n",
        "    round(count(*) * 100 / sum(count(*)) over (partition by FLAG_OWN_CAR), 0) as PORCENTAGEM\n",
        "from\n",
        "    df_application_train_V1\n",
        "group by\n",
        "    TARGET,\n",
        "    FLAG_OWN_CAR;\n",
        "\"\"\")\n",
        "df_carro_target.show()"
      ]
    },
    {
      "cell_type": "markdown",
      "source": [
        "####Visualização da Variável Posse de Carro e a Relação com Target"
      ],
      "metadata": {
        "id": "yj2woee1KocF"
      }
    },
    {
      "cell_type": "code",
      "source": [
        "# Converter o DataFrame do Spark para um DataFrame do Pandas\n",
        "df_carro_target01 = df_carro_target.toPandas()\n",
        "\n",
        "# Plotar o gráfico de barras\n",
        "plt.figure(figsize=(8, 4))\n",
        "sns.barplot(data=df_carro_target01, x='TARGET', y='CLIENTES', hue='POSSUI_CARRO')\n",
        "\n",
        "# Remover os títulos dos eixos x e y\n",
        "plt.xlabel('')\n",
        "plt.ylabel('')\n",
        "\n",
        "plt.title('Relação entre Target e Posse de Carro')\n",
        "plt.show()\n"
      ],
      "metadata": {
        "colab": {
          "base_uri": "https://localhost:8080/",
          "height": 391
        },
        "id": "2wfEFMag7yPr",
        "outputId": "cbad9c73-7ff2-456c-fb42-4f6b2a87b64d"
      },
      "execution_count": 61,
      "outputs": [
        {
          "output_type": "display_data",
          "data": {
            "text/plain": [
              "<Figure size 800x400 with 1 Axes>"
            ],
            "image/png": "[encoded data removed]"
          },
          "metadata": {}
        }
      ]
    },
    {
      "cell_type": "markdown",
      "source": [
        "A posse de carro parece parece não ter influência na variável target.\n"
      ],
      "metadata": {
        "id": "-7vSYuBYNqPQ"
      }
    },
    {
      "cell_type": "markdown",
      "source": [
        "###Análise da Variável Posse de Imóvel pelo Cliente"
      ],
      "metadata": {
        "id": "yQdSJqGyK29y"
      }
    },
    {
      "cell_type": "code",
      "source": [
        "spark.sql(\"\"\"\n",
        "select\n",
        "    FLAG_OWN_REALTY as POSSUI_IMOVEL,\n",
        "    count(*) as CLIENTES,\n",
        "    round(count(*)* 100/ (select count(*)from df_application_train_V1),0) as PORCENTAGEM\n",
        "from\n",
        "    df_application_train\n",
        "group by\n",
        "   FLAG_OWN_REALTY;\n",
        "\"\"\").show()"
      ],
      "metadata": {
        "colab": {
          "base_uri": "https://localhost:8080/"
        },
        "id": "7KvWISczOu8K",
        "outputId": "3ae80c85-75f4-4794-b983-80698fe39d1a"
      },
      "execution_count": 63,
      "outputs": [
        {
          "output_type": "stream",
          "name": "stdout",
          "text": [
            "+-------------+--------+-----------+\n",
            "|POSSUI_IMOVEL|CLIENTES|PORCENTAGEM|\n",
            "+-------------+--------+-----------+\n",
            "|            Y|  149519|       69.0|\n",
            "|            N|   65738|       31.0|\n",
            "+-------------+--------+-----------+\n",
            "\n"
          ]
        }
      ]
    },
    {
      "cell_type": "markdown",
      "metadata": {
        "id": "Alg_OiR39Gqu"
      },
      "source": [
        "####Análise da Posse de Imóvel pelo Cliente e a Relação com Target"
      ]
    },
    {
      "cell_type": "code",
      "execution_count": 65,
      "metadata": {
        "colab": {
          "base_uri": "https://localhost:8080/"
        },
        "id": "jrLBDuGP4EOb",
        "outputId": "10d567c3-c40d-4a28-b6a1-0cd43c6b58df"
      },
      "outputs": [
        {
          "output_type": "stream",
          "name": "stdout",
          "text": [
            "+------+-------------+--------+-----------+\n",
            "|TARGET|POSSUI_IMOVEL|CLIENTES|PORCENTAGEM|\n",
            "+------+-------------+--------+-----------+\n",
            "|     0|            N|   60234|       92.0|\n",
            "|     1|            N|    5504|        8.0|\n",
            "|     0|            Y|  137611|       92.0|\n",
            "|     1|            Y|   11908|        8.0|\n",
            "+------+-------------+--------+-----------+\n",
            "\n"
          ]
        }
      ],
      "source": [
        "df_imovel_target = spark.sql(\"\"\"\n",
        "select\n",
        "    TARGET,\n",
        "    FLAG_OWN_REALTY as POSSUI_IMOVEL,\n",
        "    count(*) as CLIENTES,\n",
        "     round(count(*) * 100 / sum(count(*)) over (partition by FLAG_OWN_REALTY), 0) as PORCENTAGEM\n",
        "from\n",
        "    df_application_train\n",
        "group by\n",
        "    TARGET,\n",
        "    FLAG_OWN_REALTY;\n",
        "\"\"\")\n",
        "df_imovel_target.show()\n"
      ]
    },
    {
      "cell_type": "markdown",
      "source": [
        "####Visualização da Variável Posse de Imóvel pelo Cliente e a Relação com Target"
      ],
      "metadata": {
        "id": "W07MdnM1CNjy"
      }
    },
    {
      "cell_type": "code",
      "source": [
        "# Converter o DataFrame do Spark para um DataFrame do Pandas\n",
        "df_imovel_target01 = df_imovel_target.toPandas()\n",
        "\n",
        "# Plotar o gráfico de barras\n",
        "plt.figure(figsize=(8, 6))\n",
        "sns.barplot(data=df_imovel_target01, x='TARGET', y='CLIENTES', hue='POSSUI_IMOVEL')\n",
        "\n",
        "# Remover os títulos dos eixos x e y\n",
        "plt.xlabel('')\n",
        "plt.ylabel('')\n",
        "\n",
        "plt.title('Relação entre Target e Posse de Imóvel')\n",
        "plt.show()"
      ],
      "metadata": {
        "colab": {
          "base_uri": "https://localhost:8080/",
          "height": 545
        },
        "id": "_eIbzTLhNE_h",
        "outputId": "744a919c-be3d-4688-8b36-ff70978dc350"
      },
      "execution_count": 66,
      "outputs": [
        {
          "output_type": "display_data",
          "data": {
            "text/plain": [
              "<Figure size 800x600 with 1 Axes>"
            ],
            "image/png": "[encoded data removed]"
          },
          "metadata": {}
        }
      ]
    },
    {
      "cell_type": "markdown",
      "source": [
        "Tanto entre os clientes que têm imóvel quanto entre os que não têm, a maioria é classificada como \"bons pagadores\"\n"
      ],
      "metadata": {
        "id": "06SE7n9DL0pb"
      }
    },
    {
      "cell_type": "markdown",
      "source": [
        "###Análise da Quantidade de Filhos por Cliente"
      ],
      "metadata": {
        "id": "KX88GrY2rNuk"
      }
    },
    {
      "cell_type": "code",
      "execution_count": 69,
      "metadata": {
        "colab": {
          "base_uri": "https://localhost:8080/"
        },
        "id": "-ItLtDHC9xAJ",
        "outputId": "e3410a96-9be3-4f7b-8f12-becf645f51ec"
      },
      "outputs": [
        {
          "output_type": "stream",
          "name": "stdout",
          "text": [
            "+------------+--------------+-----------+\n",
            "|QUANT_FILHOS|QUANT_CLIENTES|PORCENTAGEM|\n",
            "+------------+--------------+-----------+\n",
            "|           0|        150712|      70.01|\n",
            "|           1|         42855|      19.91|\n",
            "|           2|         18775|       8.72|\n",
            "|           3|          2546|       1.18|\n",
            "|           4|           287|       0.13|\n",
            "|           5|            54|       0.03|\n",
            "|           6|            14|       0.01|\n",
            "|           7|             5|        0.0|\n",
            "|           8|             1|        0.0|\n",
            "|           9|             2|        0.0|\n",
            "|          10|             2|        0.0|\n",
            "|          11|             1|        0.0|\n",
            "|          14|             2|        0.0|\n",
            "|          19|             1|        0.0|\n",
            "+------------+--------------+-----------+\n",
            "\n"
          ]
        }
      ],
      "source": [
        "spark.sql(\"\"\"\n",
        "select\n",
        "  CNT_CHILDREN as QUANT_FILHOS,\n",
        "  count(*) AS QUANT_CLIENTES,\n",
        "  round(count(*)* 100/ (select count(*)from df_application_train_V1),2) as PORCENTAGEM\n",
        "from\n",
        "  df_application_train\n",
        "group by\n",
        "  CNT_CHILDREN\n",
        "order by\n",
        "  QUANT_FILHOS;\n",
        "\"\"\").show()"
      ]
    },
    {
      "cell_type": "markdown",
      "source": [
        "A maior parte dos clientes (cerca de 70%) na base de dados não possui filhos, enquanto quase 20% têm somente um filho. A quantidade de clientes diminui gradualmente à medida que o número de filhos aumenta, com uma porcentagem muito pequena de clientes (menos de 1,5% no total) tendo três ou mais filhos."
      ],
      "metadata": {
        "id": "_uelN_nxOmYG"
      }
    },
    {
      "cell_type": "markdown",
      "source": [
        "###Análise da Variável Nivel de Educação"
      ],
      "metadata": {
        "id": "1UhHSbW9WLKI"
      }
    },
    {
      "cell_type": "code",
      "source": [
        "spark.sql(\"\"\"\n",
        "select\n",
        "    NAME_EDUCATION_TYPE,\n",
        "    count (*) as QUANTIDADE_CLIENTES,\n",
        "    round(count(*) * 100 / (select count(*) from df_application_train), 2) as PORCENTAGEM\n",
        "from\n",
        "    df_application_train_V1\n",
        "group by\n",
        "    NAME_EDUCATION_TYPE\n",
        "\"\"\").show()"
      ],
      "metadata": {
        "colab": {
          "base_uri": "https://localhost:8080/"
        },
        "id": "JpG6gcgvVx7t",
        "outputId": "d718be6c-3bc1-42a3-ad35-245bf236f836"
      },
      "execution_count": 70,
      "outputs": [
        {
          "output_type": "stream",
          "name": "stdout",
          "text": [
            "+--------------------+-------------------+-----------+\n",
            "| NAME_EDUCATION_TYPE|QUANTIDADE_CLIENTES|PORCENTAGEM|\n",
            "+--------------------+-------------------+-----------+\n",
            "|     Academic degree|                117|       0.05|\n",
            "|   Incomplete higher|               7169|       3.33|\n",
            "|Secondary / secon...|             152634|      70.91|\n",
            "|     Lower secondary|               2673|       1.24|\n",
            "|    Higher education|              52664|      24.47|\n",
            "+--------------------+-------------------+-----------+\n",
            "\n"
          ]
        }
      ]
    },
    {
      "cell_type": "markdown",
      "source": [
        "A maior parte dos clientes, cerca de 70,91%, possui educação de nível médio (Secondary / secondary special), enquanto uma proporção significativa de 24,47% tem educação superior (Higher education).\n",
        "\n",
        "Isso indica que a base de clientes é majoritariamente formada por pessoas com formação educacional de nível médio."
      ],
      "metadata": {
        "id": "_ZpJDtr3WZay"
      }
    },
    {
      "cell_type": "markdown",
      "source": [
        "#### Análise da Relação entre o Nível de Educação e o Target de Crédito\n",
        "\n",
        "A consulta a seguir analisa os dados dos clientes, classificando-os conforme o nível de educação e o alvo de crédito. O resultado mostra o número de clientes em cada categoria, bem como a porcentagem em relação ao total de clientes na base de dados."
      ],
      "metadata": {
        "id": "kIm5d04dsNlX"
      }
    },
    {
      "cell_type": "code",
      "execution_count": 71,
      "metadata": {
        "colab": {
          "base_uri": "https://localhost:8080/"
        },
        "id": "VYqdw6P_EMhN",
        "outputId": "71a19b0c-ace1-42bd-bdb1-d3705d2de178"
      },
      "outputs": [
        {
          "output_type": "stream",
          "name": "stdout",
          "text": [
            "+--------------------+------+-------------------+-----------+\n",
            "| NAME_EDUCATION_TYPE|TARGET|QUANTIDADE_CLIENTES|PORCENTAGEM|\n",
            "+--------------------+------+-------------------+-----------+\n",
            "|     Academic degree|     1|                  3|        3.0|\n",
            "|     Academic degree|     0|                114|       97.0|\n",
            "|    Higher education|     1|               2851|        5.0|\n",
            "|    Higher education|     0|              49813|       95.0|\n",
            "|   Incomplete higher|     0|               6562|       92.0|\n",
            "|   Incomplete higher|     1|                607|        8.0|\n",
            "|     Lower secondary|     1|                289|       11.0|\n",
            "|     Lower secondary|     0|               2384|       89.0|\n",
            "|Secondary / secon...|     1|              13662|        9.0|\n",
            "|Secondary / secon...|     0|             138972|       91.0|\n",
            "+--------------------+------+-------------------+-----------+\n",
            "\n"
          ]
        }
      ],
      "source": [
        "df_educacao_target = spark.sql(\"\"\"\n",
        "select\n",
        "    NAME_EDUCATION_TYPE,\n",
        "    TARGET,\n",
        "    count (*) as QUANTIDADE_CLIENTES,\n",
        "    round(count(*) * 100 / sum(count(*)) over (partition by NAME_EDUCATION_TYPE), 0) as PORCENTAGEM\n",
        "from\n",
        "    df_application_train_V1\n",
        "group by\n",
        "    NAME_EDUCATION_TYPE,\n",
        "    TARGET\n",
        "order by\n",
        "    NAME_EDUCATION_TYPE\n",
        "\"\"\")\n",
        "df_educacao_target.show()\n"
      ]
    },
    {
      "cell_type": "markdown",
      "source": [
        "####Visualização da Variável Nivel de Educação para o Target 1"
      ],
      "metadata": {
        "id": "tadi6vaGCvWn"
      }
    },
    {
      "cell_type": "code",
      "source": [
        "# Converter o resultado da consulta em um DataFrame Pandas\n",
        "df_pandas = df_educacao_target.toPandas()\n",
        "\n",
        "# Filtrar apenas os clientes com TARGET 1 (inadimplentes)\n",
        "df_pandas_target_1 = df_pandas[df_pandas['TARGET'] == 1]\n",
        "\n",
        "# Ordenar o DataFrame pela coluna 'PORCENTAGEM' em ordem crescente\n",
        "df_pandas_target_1 = df_pandas_target_1.sort_values(by='PORCENTAGEM')\n",
        "\n",
        "# Criar o gráfico de barras horizontais\n",
        "plt.figure(figsize=(8,4))\n",
        "barras = plt.barh(df_pandas_target_1['NAME_EDUCATION_TYPE'], df_pandas_target_1['PORCENTAGEM'], color='#84A9CF')\n",
        "\n",
        "# Adicionar a porcentagem como rótulo em cada barra\n",
        "for barra in barras:\n",
        "    width = barra.get_width()\n",
        "    plt.text(width, barra.get_y() + barra.get_height()/2, f'{width}%', ha='left', va='center')\n",
        "\n",
        "# Adicionar rótulos e título\n",
        "plt.ylabel('Tipo de Educação')\n",
        "plt.title('Porcentagem de Inadimplentes por Tipo de Educação')\n",
        "\n",
        "# Remover os números do eixo x\n",
        "plt.xticks([])\n",
        "\n",
        "# Remover o título do eixo y\n",
        "plt.ylabel('')\n",
        "\n",
        "# Remover a grade\n",
        "plt.grid(False)\n",
        "\n",
        "# Exibir o gráfico\n",
        "plt.tight_layout()\n",
        "plt.show()\n",
        "\n"
      ],
      "metadata": {
        "colab": {
          "base_uri": "https://localhost:8080/",
          "height": 407
        },
        "id": "4B5HD9bCXZOv",
        "outputId": "8a191e4e-a59a-46c6-87b6-c27513349a7e"
      },
      "execution_count": 72,
      "outputs": [
        {
          "output_type": "display_data",
          "data": {
            "text/plain": [
              "<Figure size 800x400 with 1 Axes>"
            ],
            "image/png": "[encoded data removed]"
          },
          "metadata": {}
        }
      ]
    },
    {
      "cell_type": "markdown",
      "source": [
        "###Análise da Variavel Quantidade de Membros na Família"
      ],
      "metadata": {
        "id": "ZXe9XVm3sfzo"
      }
    },
    {
      "cell_type": "code",
      "source": [
        "spark.sql(\"\"\"\n",
        "select\n",
        "    round(avg(CNT_FAM_MEMBERS),2) as MEDIA_MEMBROS_FAMILIA,\n",
        "    min(CNT_FAM_MEMBERS) as MIN_MEMBROS_FAMILIA,\n",
        "    max(CNT_FAM_MEMBERS) as MAX_MEMBROS_FAMILIA\n",
        "from\n",
        "    df_application_train_V1\n",
        "\"\"\").show()"
      ],
      "metadata": {
        "colab": {
          "base_uri": "https://localhost:8080/"
        },
        "id": "6FigTUqjFFaZ",
        "outputId": "7bed7066-71b5-45de-a10c-50e2cff9846e"
      },
      "execution_count": 73,
      "outputs": [
        {
          "output_type": "stream",
          "name": "stdout",
          "text": [
            "+---------------------+-------------------+-------------------+\n",
            "|MEDIA_MEMBROS_FAMILIA|MIN_MEMBROS_FAMILIA|MAX_MEMBROS_FAMILIA|\n",
            "+---------------------+-------------------+-------------------+\n",
            "|                 2.15|                1.0|               20.0|\n",
            "+---------------------+-------------------+-------------------+\n",
            "\n"
          ]
        }
      ]
    },
    {
      "cell_type": "markdown",
      "source": [
        "####Análise da Relação da Quantidade de Membros na Família com o  Target"
      ],
      "metadata": {
        "id": "gOd6kbOaRRPH"
      }
    },
    {
      "cell_type": "code",
      "source": [
        "spark.sql(\"\"\"\n",
        "select\n",
        "    TARGET,\n",
        "    CNT_FAM_MEMBERS as QUANT_MEMBROS,\n",
        "    count(*) as QUANT_CLIENTES\n",
        "from\n",
        "    df_application_train_V1\n",
        "group by\n",
        "    TARGET,\n",
        "    CNT_FAM_MEMBERS\n",
        "order by\n",
        "    QUANT_CLIENTES;\n",
        "\"\"\").show()"
      ],
      "metadata": {
        "colab": {
          "base_uri": "https://localhost:8080/"
        },
        "id": "lo-Z0wSMPzeX",
        "outputId": "0721df90-cae2-4612-e57a-41d32955916c"
      },
      "execution_count": 74,
      "outputs": [
        {
          "output_type": "stream",
          "name": "stdout",
          "text": [
            "+------+-------------+--------------+\n",
            "|TARGET|QUANT_MEMBROS|QUANT_CLIENTES|\n",
            "+------+-------------+--------------+\n",
            "|     0|         16.0|             1|\n",
            "|     0|         15.0|             1|\n",
            "|     1|         10.0|             1|\n",
            "|     0|         20.0|             1|\n",
            "|     0|         10.0|             1|\n",
            "|     0|         NULL|             1|\n",
            "|     1|         13.0|             1|\n",
            "|     1|         11.0|             1|\n",
            "|     0|         12.0|             2|\n",
            "|     1|          7.0|             2|\n",
            "|     1|          8.0|             3|\n",
            "|     0|          9.0|             4|\n",
            "|     0|          8.0|            10|\n",
            "|     1|          6.0|            36|\n",
            "|     0|          7.0|            51|\n",
            "|     1|          5.0|           233|\n",
            "|     0|          6.0|           237|\n",
            "|     1|          4.0|          1511|\n",
            "|     0|          5.0|          2156|\n",
            "|     1|          3.0|          3269|\n",
            "+------+-------------+--------------+\n",
            "only showing top 20 rows\n",
            "\n"
          ]
        }
      ]
    },
    {
      "cell_type": "markdown",
      "source": [
        "A maioria dos clientes tem um número moderado de membros na família, com uma distribuição mais concentrada em torno de 3 a 5 membros.\n",
        "\n",
        "Observa-se que há uma quantidade significativa de clientes inadimplentes em famílias com um número menor de membros entre 3 e 5 por exemplo."
      ],
      "metadata": {
        "id": "jp4lw0H2RmuA"
      }
    },
    {
      "cell_type": "markdown",
      "source": [
        "###Análise da Variável Valor do Crédito"
      ],
      "metadata": {
        "id": "2wDk1SsdwcR9"
      }
    },
    {
      "cell_type": "code",
      "source": [
        "spark.sql(\"\"\"\n",
        "select\n",
        "  round(avg(AMT_CREDIT),2) as MEDIA_CREDITO,\n",
        "  round(min(AMT_CREDIT),2) as MIN_CREDITO,\n",
        "  round(max(AMT_CREDIT),2) as MAX_CREDITO\n",
        "from\n",
        "  df_application_train_V1\n",
        "\"\"\").show()"
      ],
      "metadata": {
        "colab": {
          "base_uri": "https://localhost:8080/"
        },
        "id": "h23WGVLZF0Ir",
        "outputId": "27961fe5-8982-4f8d-ee49-a24b2f6f7028"
      },
      "execution_count": 75,
      "outputs": [
        {
          "output_type": "stream",
          "name": "stdout",
          "text": [
            "+-------------+-----------+-----------+\n",
            "|MEDIA_CREDITO|MIN_CREDITO|MAX_CREDITO|\n",
            "+-------------+-----------+-----------+\n",
            "|     599496.0|    45000.0|  4050000.0|\n",
            "+-------------+-----------+-----------+\n",
            "\n"
          ]
        }
      ]
    },
    {
      "cell_type": "markdown",
      "source": [
        "#### Análise por Faixa dos Valores de Crédito e o Target\n",
        "\n"
      ],
      "metadata": {
        "id": "AnEGW5_K6DRy"
      }
    },
    {
      "cell_type": "code",
      "source": [
        "df_faixa_credito_target = spark.sql(\"\"\"\n",
        "select\n",
        "    TARGET,\n",
        "    case\n",
        "        when AMT_CREDIT >= 0 and AMT_CREDIT < 100000 then '0-100k'\n",
        "        when AMT_CREDIT >= 100000 and AMT_CREDIT < 200000 then '100k-200k'\n",
        "        when AMT_CREDIT >= 200000 and AMT_CREDIT < 300000 then '200k-300k'\n",
        "        when AMT_CREDIT >= 300000 and AMT_CREDIT < 400000 then '300k-400k'\n",
        "        else '400k+'\n",
        "    end as FAIXA_CREDITO,\n",
        "    count(*) as QUANT_CLIENTES\n",
        "from\n",
        "    df_application_train_V1\n",
        "group by\n",
        "    TARGET,\n",
        "    FAIXA_CREDITO\n",
        "order by\n",
        "    TARGET,\n",
        "    FAIXA_CREDITO\n",
        "\"\"\")\n",
        "\n",
        "df_faixa_credito_target.show()"
      ],
      "metadata": {
        "colab": {
          "base_uri": "https://localhost:8080/"
        },
        "id": "dOg0B98AYEQB",
        "outputId": "6f586acb-3f3c-4f94-ccdd-b21454b0bb04"
      },
      "execution_count": 76,
      "outputs": [
        {
          "output_type": "stream",
          "name": "stdout",
          "text": [
            "+------+-------------+--------------+\n",
            "|TARGET|FAIXA_CREDITO|QUANT_CLIENTES|\n",
            "+------+-------------+--------------+\n",
            "|     0|       0-100k|          3977|\n",
            "|     0|    100k-200k|         19593|\n",
            "|     0|    200k-300k|         35449|\n",
            "|     0|    300k-400k|         16535|\n",
            "|     0|        400k+|        122291|\n",
            "|     1|       0-100k|           236|\n",
            "|     1|    100k-200k|          1500|\n",
            "|     1|    200k-300k|          3041|\n",
            "|     1|    300k-400k|          1835|\n",
            "|     1|        400k+|         10800|\n",
            "+------+-------------+--------------+\n",
            "\n"
          ]
        }
      ]
    },
    {
      "cell_type": "markdown",
      "source": [
        "A maioria dos clientes, tanto do target 0 quanto do target 1, está na faixa de crédito de 400k+.\n",
        "\n",
        "Para o target 0, a segunda faixa de crédito mais comum é a faixa de 200k-300k, seguida pela faixa de 100k-200k.\n",
        "\n",
        "Para o target 1, a segunda faixa de crédito mais comum é a faixa de 400k+, seguida pela faixa de 200k-300k.\n"
      ],
      "metadata": {
        "id": "LkaZvpAZZtxI"
      }
    },
    {
      "cell_type": "markdown",
      "source": [
        "###Análise da Varável valor do Crédito por Faixas de Renda\n",
        "\n",
        "Por meio da consulta Spark SQL, segmentei os clientes em diferentes faixas de renda, que variam de \"Até 50.000\" a \"Mais de 200.000\". Para cada faixa de renda, calculei a média, o mínimo e o máximo dos valores de crédito concedidos."
      ],
      "metadata": {
        "id": "9ioyU7Ja6lPg"
      }
    },
    {
      "cell_type": "code",
      "source": [
        "df_credito_renda = spark.sql(\"\"\"\n",
        "select\n",
        "   case\n",
        "      when AMT_INCOME_TOTAL <=  50000 then 'Faixa 1: Até 50.000'\n",
        "      when AMT_INCOME_TOTAL <= 100000 then 'Faixa 2: 50.001 - 100.000'\n",
        "      when AMT_INCOME_TOTAL <= 150000 then 'Faixa 3: 100.001 - 150.000'\n",
        "      when AMT_INCOME_TOTAL <= 200000 then 'Faixa 4: 150.001 - 200.000'\n",
        "      else 'Faixa 5: Mais de 200.000'\n",
        "    end  as FAIXA_RENDA,\n",
        "      round(avg(AMT_CREDIT), 2) as MEDIA_CREDITO,\n",
        "      round(min(AMT_CREDIT), 2) as MIN_CREDITO,\n",
        "      round(max(AMT_CREDIT), 2) as MAX_CREDITO\n",
        "from\n",
        "    df_application_train_01\n",
        "group by\n",
        "    case\n",
        "      when AMT_INCOME_TOTAL <=  50000 then 'Faixa 1: Até 50.000'\n",
        "      when AMT_INCOME_TOTAL <= 100000 then 'Faixa 2: 50.001 - 100.000'\n",
        "      when AMT_INCOME_TOTAL <= 150000 then 'Faixa 3: 100.001 - 150.000'\n",
        "      when AMT_INCOME_TOTAL <= 200000 then 'Faixa 4: 150.001 - 200.000'\n",
        "      else 'Faixa 5: Mais de 200.000'\n",
        "    end\n",
        "order by\n",
        "   FAIXA_RENDA;\n",
        "\"\"\")\n",
        "df_credito_renda.show()"
      ],
      "metadata": {
        "colab": {
          "base_uri": "https://localhost:8080/"
        },
        "id": "GsSZAdGRyQNH",
        "outputId": "ff7e2280-76a7-4e61-e7dc-4195880e9c9f"
      },
      "execution_count": null,
      "outputs": [
        {
          "output_type": "stream",
          "name": "stdout",
          "text": [
            "+--------------------+-------------+-----------+-----------+\n",
            "|         FAIXA_RENDA|MEDIA_CREDITO|MIN_CREDITO|MAX_CREDITO|\n",
            "+--------------------+-------------+-----------+-----------+\n",
            "| Faixa 1: Até 50.000|    295648.85|    45000.0|  2215224.0|\n",
            "|Faixa 2: 50.001 -...|    393857.73|    45000.0|  2517300.0|\n",
            "|Faixa 3: 100.001 ...|    521020.04|    45000.0|  2517300.0|\n",
            "|Faixa 4: 150.001 ...|    635453.73|    45000.0|  2980521.0|\n",
            "|Faixa 5: Mais de ...|    809149.07|    45000.0|  4050000.0|\n",
            "+--------------------+-------------+-----------+-----------+\n",
            "\n"
          ]
        }
      ]
    },
    {
      "cell_type": "markdown",
      "source": [
        "####Visualização da Variável Valor do Credito por Faixa de Renda"
      ],
      "metadata": {
        "id": "AerbeyHQDYnJ"
      }
    },
    {
      "cell_type": "code",
      "source": [
        "# Converter os resultados da consulta para um DataFrame Pandas\n",
        "df_credito_renda01 = df_credito_renda.toPandas()\n",
        "\n",
        "# Configurar o gráfico de barras\n",
        "plt.figure(figsize=(8, 6))\n",
        "\n",
        "sns.barplot(data=df_credito_renda01, x='FAIXA_RENDA', y='MEDIA_CREDITO')\n",
        "plt.title('Média de Crédito por Faixa de Renda')\n",
        "\n",
        "# Remover os títulos dos eixos x e y\n",
        "plt.xlabel('')\n",
        "plt.ylabel('')\n",
        "\n",
        "plt.xticks(rotation=45, ha='right')\n",
        "plt.tight_layout()\n",
        "plt.show()\n"
      ],
      "metadata": {
        "colab": {
          "base_uri": "https://localhost:8080/",
          "height": 607
        },
        "id": "jezQI5ba7QQe",
        "outputId": "bd3661c0-bc81-4546-98be-b241f7e0627c"
      },
      "execution_count": null,
      "outputs": [
        {
          "output_type": "display_data",
          "data": {
            "text/plain": [
              "<Figure size 800x600 with 1 Axes>"
            ],
            "image/png": "[encoded data removed]"
          },
          "metadata": {}
        }
      ]
    },
    {
      "cell_type": "markdown",
      "source": [
        "Observa-se que, em geral, o valor médio do crédito aumenta à medida que a faixa de renda aumenta.\n",
        "\n",
        "Embora exista um aumento geral no valor médio do crédito à medida que a faixa de renda aumenta, a variação nos valores mínimos e máximos de crédito é significativa dentro de cada faixa de renda."
      ],
      "metadata": {
        "id": "g4EGE5KyEOOz"
      }
    },
    {
      "cell_type": "markdown",
      "source": [],
      "metadata": {
        "id": "9J9n2yhJ3LEs"
      }
    },
    {
      "cell_type": "markdown",
      "source": [
        "###Análise da Parcela Mensal do Crédito"
      ],
      "metadata": {
        "id": "2M2POVUCHeAI"
      }
    },
    {
      "cell_type": "code",
      "source": [
        "spark.sql(\"\"\"\n",
        "select\n",
        "  round(avg(AMT_ANNUITY)/12,2) as MED_PARC_MENSAL,\n",
        "  round(min(AMT_ANNUITY)/12,2) as MIN_PARC_MENSAL,\n",
        "  round(max(AMT_ANNUITY)/12,2) as MAX_PARC_MENSAL\n",
        "from\n",
        "  df_application_train_V1\n",
        "\"\"\").show()"
      ],
      "metadata": {
        "colab": {
          "base_uri": "https://localhost:8080/"
        },
        "id": "KWM2cbGpVHps",
        "outputId": "1701c897-82c1-4b42-ad40-69da06ea2639"
      },
      "execution_count": 77,
      "outputs": [
        {
          "output_type": "stream",
          "name": "stdout",
          "text": [
            "+---------------+---------------+---------------+\n",
            "|MED_PARC_MENSAL|MIN_PARC_MENSAL|MAX_PARC_MENSAL|\n",
            "+---------------+---------------+---------------+\n",
            "|        2259.97|         134.63|       21502.13|\n",
            "+---------------+---------------+---------------+\n",
            "\n"
          ]
        }
      ]
    },
    {
      "cell_type": "markdown",
      "source": [
        "###Análise da Variável Tipo de Renda do Cliente"
      ],
      "metadata": {
        "id": "7QhkeK_xH18I"
      }
    },
    {
      "cell_type": "code",
      "source": [
        "spark.sql(\"\"\"\n",
        "select\n",
        "  NAME_INCOME_TYPE,\n",
        "  count(*) as TIPO_RENDA,\n",
        "  round((count(*) / sum(count(*)) over()) * 100,2) as PORCENTAGEM\n",
        "from\n",
        "  df_application_train_V1\n",
        "group by\n",
        "  NAME_INCOME_TYPE\n",
        "order by\n",
        "  TIPO_RENDA\n",
        "\"\"\").show()"
      ],
      "metadata": {
        "colab": {
          "base_uri": "https://localhost:8080/"
        },
        "id": "aYCRBLxoW6nG",
        "outputId": "10c9a3b9-66b7-4b4e-ff30-61810a57e82a"
      },
      "execution_count": 78,
      "outputs": [
        {
          "output_type": "stream",
          "name": "stdout",
          "text": [
            "+--------------------+----------+-----------+\n",
            "|    NAME_INCOME_TYPE|TIPO_RENDA|PORCENTAGEM|\n",
            "+--------------------+----------+-----------+\n",
            "|     Maternity leave|         2|        0.0|\n",
            "|         Businessman|         8|        0.0|\n",
            "|             Student|        14|       0.01|\n",
            "|          Unemployed|        16|       0.01|\n",
            "|       State servant|     15207|       7.06|\n",
            "|           Pensioner|     38709|      17.98|\n",
            "|Commercial associate|     50219|      23.33|\n",
            "|             Working|    111082|       51.6|\n",
            "+--------------------+----------+-----------+\n",
            "\n"
          ]
        }
      ]
    },
    {
      "cell_type": "markdown",
      "source": [
        "####Análise da Variável Tipo de Renda e a Relação com Target"
      ],
      "metadata": {
        "id": "6hVB1GIrLPtL"
      }
    },
    {
      "cell_type": "code",
      "source": [
        "df_tipo_renda_target = spark.sql(\"\"\"\n",
        "select\n",
        "  TARGET,\n",
        "  NAME_INCOME_TYPE as TIPO_RENDA,\n",
        "  count(*) as QUANT_CLIENTES\n",
        "from\n",
        "  df_application_train_V1\n",
        "group by\n",
        "  TARGET,\n",
        "  NAME_INCOME_TYPE\n",
        "order by\n",
        "  QUANT_CLIENTES;\n",
        "\"\"\")\n",
        "df_tipo_renda_target.show()"
      ],
      "metadata": {
        "colab": {
          "base_uri": "https://localhost:8080/"
        },
        "id": "v4ttYkYWIIdu",
        "outputId": "79d3f24d-31ff-4f9d-ed63-cb85f7228b99"
      },
      "execution_count": 79,
      "outputs": [
        {
          "output_type": "stream",
          "name": "stdout",
          "text": [
            "+------+--------------------+--------------+\n",
            "|TARGET|          TIPO_RENDA|QUANT_CLIENTES|\n",
            "+------+--------------------+--------------+\n",
            "|     1|     Maternity leave|             1|\n",
            "|     0|     Maternity leave|             1|\n",
            "|     1|          Unemployed|             6|\n",
            "|     0|         Businessman|             8|\n",
            "|     0|          Unemployed|            10|\n",
            "|     0|             Student|            14|\n",
            "|     1|       State servant|           877|\n",
            "|     1|           Pensioner|          2091|\n",
            "|     1|Commercial associate|          3812|\n",
            "|     1|             Working|         10625|\n",
            "|     0|       State servant|         14330|\n",
            "|     0|           Pensioner|         36618|\n",
            "|     0|Commercial associate|         46407|\n",
            "|     0|             Working|        100457|\n",
            "+------+--------------------+--------------+\n",
            "\n"
          ]
        }
      ]
    },
    {
      "cell_type": "markdown",
      "source": [
        "####Visualização da Variável Tipo de Renda e o Target"
      ],
      "metadata": {
        "id": "3xyktBC5LbBH"
      }
    },
    {
      "cell_type": "code",
      "source": [
        "# Converta os resultados para um DataFrame pandas\n",
        "df_tipo_renda_target01 = df_tipo_renda_target.toPandas()\n",
        "\n",
        "# Crie o gráfico de barras agrupado\n",
        "plt.figure(figsize=(10, 6))\n",
        "sns.barplot(data=df_tipo_renda_target01, x='TIPO_RENDA', y='QUANT_CLIENTES', hue='TARGET')\n",
        "\n",
        "# Adicione título\n",
        "plt.title('Quantidade de Clientes por Tipo de Renda e Target')\n",
        "\n",
        "# Remover os títulos dos eixos x e y\n",
        "plt.xlabel('')\n",
        "plt.ylabel('')\n",
        "\n",
        "# Mostrar o gráfico\n",
        "plt.xticks(rotation=45)\n",
        "plt.tight_layout()\n",
        "plt.legend(title='TARGET')\n",
        "plt.show()"
      ],
      "metadata": {
        "colab": {
          "base_uri": "https://localhost:8080/",
          "height": 607
        },
        "id": "bxWF95ahJk2k",
        "outputId": "37549557-7f97-4ab4-803f-81c45f95c8c4"
      },
      "execution_count": 80,
      "outputs": [
        {
          "output_type": "display_data",
          "data": {
            "text/plain": [
              "<Figure size 1000x600 with 1 Axes>"
            ],
            "image/png": "[encoded data removed]"
          },
          "metadata": {}
        }
      ]
    },
    {
      "cell_type": "markdown",
      "source": [
        "A maioria dos clientes pertence ao grupo \"Working\" tanto para target 0 quanto para target 1.\n",
        "\n",
        "A segunda maior quantidade de clientes inadimplentes (target 1) é dos que têm a ocupação de \"Commercial associate\".\n",
        "\n",
        "Clientes com ocupações como \"State servant\" e \"Pensioner\" têm menos chances de serem inadimplentes em comparação com outras ocupações.\n",
        "\n",
        "Há uma quantidade muito pequena de clientes com ocupações especiais como \"Maternity leave\", \"Unemployed\" e \"Businessman\", e o número de inadimplentes dentro desses grupos também é baixo."
      ],
      "metadata": {
        "id": "6-yjfgrrK240"
      }
    },
    {
      "cell_type": "markdown",
      "source": [
        "###Análise da Variável Pontuação de Fonte de Dados Externos"
      ],
      "metadata": {
        "id": "Ih2QF7-XNMuq"
      }
    },
    {
      "cell_type": "code",
      "source": [
        "spark.sql(\"\"\"\n",
        "select\n",
        "    avg(EXT_SOURCE_1) as media_EXT_SOURCE_1,\n",
        "    avg(EXT_SOURCE_2) as media_EXT_SOURCE_2,\n",
        "    avg(EXT_SOURCE_3) as media_EXT_SOURCE_3,\n",
        "    max(EXT_SOURCE_1) as max_EXT_SOURCE_1,\n",
        "    max(EXT_SOURCE_2) as max_EXT_SOURCE_2,\n",
        "    max(EXT_SOURCE_3) as max_EXT_SOURCE_3,\n",
        "    min(EXT_SOURCE_1) as min_EXT_SOURCE_1,\n",
        "    min(EXT_SOURCE_2) as min_EXT_SOURCE_2,\n",
        "    min(EXT_SOURCE_3) as min_EXT_SOURCE_3\n",
        "from\n",
        "df_application_train_V1\n",
        "\n",
        "\"\"\").show()"
      ],
      "metadata": {
        "colab": {
          "base_uri": "https://localhost:8080/"
        },
        "id": "yoWJBBlaaqND",
        "outputId": "b9e3c356-688b-4fe5-fdf6-4a9122dd41ad"
      },
      "execution_count": 81,
      "outputs": [
        {
          "output_type": "stream",
          "name": "stdout",
          "text": [
            "+------------------+------------------+------------------+------------------+------------------+------------------+------------------+--------------------+-----------------+\n",
            "|media_EXT_SOURCE_1|media_EXT_SOURCE_2|media_EXT_SOURCE_3|  max_EXT_SOURCE_1|  max_EXT_SOURCE_2|  max_EXT_SOURCE_3|  min_EXT_SOURCE_1|    min_EXT_SOURCE_2| min_EXT_SOURCE_3|\n",
            "+------------------+------------------+------------------+------------------+------------------+------------------+------------------+--------------------+-----------------+\n",
            "|0.5023237059767551|0.5141921034667131|0.5110699709936147|0.9516239622079844|0.8549996664047012|0.8960095494948396|0.0145681324124455|8.173616518884397E-8|5.272652387098E-4|\n",
            "+------------------+------------------+------------------+------------------+------------------+------------------+------------------+--------------------+-----------------+\n",
            "\n"
          ]
        }
      ]
    },
    {
      "cell_type": "markdown",
      "source": [
        "####Correlação da Variável Pontuação de Fonte de Dados Externos com o Target"
      ],
      "metadata": {
        "id": "jHmCROowNdRO"
      }
    },
    {
      "cell_type": "code",
      "source": [
        "df_correlation = spark.sql(\"\"\"\n",
        "select\n",
        "  corr(EXT_SOURCE_1, TARGET) as correlation_EXT_SOURCE_1,\n",
        "  corr(EXT_SOURCE_2, TARGET) as correlation_EXT_SOURCE_2,\n",
        "  corr(EXT_SOURCE_3, TARGET) as correlation_EXT_SOURCE_3\n",
        "from\n",
        "  df_application_train_V1\n",
        "\"\"\")\n",
        "df_correlation.show()"
      ],
      "metadata": {
        "colab": {
          "base_uri": "https://localhost:8080/"
        },
        "id": "nHAls1ERMV3Q",
        "outputId": "a5d2a0ba-a494-422f-8cb5-c32356aae248"
      },
      "execution_count": 82,
      "outputs": [
        {
          "output_type": "stream",
          "name": "stdout",
          "text": [
            "+------------------------+------------------------+------------------------+\n",
            "|correlation_EXT_SOURCE_1|correlation_EXT_SOURCE_2|correlation_EXT_SOURCE_3|\n",
            "+------------------------+------------------------+------------------------+\n",
            "|    -0.15491233954514788|     -0.1597761566994234|    -0.17989774535126316|\n",
            "+------------------------+------------------------+------------------------+\n",
            "\n"
          ]
        }
      ]
    },
    {
      "cell_type": "markdown",
      "source": [
        " Esses resultados de correlação indicam uma relação fraca entre as variáveis EXT_SOURCE_1, EXT_SOURCE_2, EXT_SOURCE_3 e o alvo TARGET, o que significa que essas variáveis não estão fortemente relacionadas à variável TARGET"
      ],
      "metadata": {
        "id": "fI4yg42VM5U6"
      }
    },
    {
      "cell_type": "markdown",
      "source": [
        "####Visualização da Variável Pontuação de Fonte de Dados Externos\n",
        "\n",
        " Crie um histograma para cada variável EXT_SOURCE_1, EXT_SOURCE_2 e EXT_SOURCE_3. Os histogramas ajudam a visualizar a distribuição de cada variável."
      ],
      "metadata": {
        "id": "oywI3rFtOH5D"
      }
    },
    {
      "cell_type": "code",
      "source": [
        "# Definir o estilo do seaborn\n",
        "sns.set(style=\"whitegrid\")\n",
        "\n",
        "# Definir o tamanho do gráfico\n",
        "plt.figure(figsize=(12, 6))\n",
        "\n",
        "# Histograma para EXT_SOURCE_1\n",
        "plt.subplot(1, 3, 1)\n",
        "sns.histplot(data=df_application_train_01, x='EXT_SOURCE_1', kde=True, color='skyblue')\n",
        "plt.title('Distribuição de EXT_SOURCE_1')\n",
        "plt.xlabel('')\n",
        "plt.ylabel('')\n",
        "\n",
        "# Histograma para EXT_SOURCE_2\n",
        "plt.subplot(1, 3, 2)\n",
        "sns.histplot(data=df_application_train_01, x='EXT_SOURCE_2', kde=True, color='salmon')\n",
        "plt.title('Distribuição de EXT_SOURCE_2')\n",
        "plt.xlabel('')\n",
        "plt.ylabel('')\n",
        "\n",
        "# Histograma para EXT_SOURCE_3\n",
        "plt.subplot(1, 3, 3)\n",
        "sns.histplot(data=df_application_train_01, x='EXT_SOURCE_3', kde=True, color='lightgreen')\n",
        "plt.title('Distribuição de EXT_SOURCE_3')\n",
        "plt.xlabel('')\n",
        "plt.ylabel('')\n",
        "\n",
        "# Mostrar os gráficos\n",
        "plt.tight_layout()\n",
        "plt.show()\n"
      ],
      "metadata": {
        "colab": {
          "base_uri": "https://localhost:8080/",
          "height": 601
        },
        "id": "VYRB4jUPNx9C",
        "outputId": "59dbf2ce-6617-4b39-de47-c210bc2e4f94"
      },
      "execution_count": 83,
      "outputs": [
        {
          "output_type": "display_data",
          "data": {
            "text/plain": [
              "<Figure size 1200x600 with 3 Axes>"
            ],
            "image/png": "[encoded data removed]"
          },
          "metadata": {}
        }
      ]
    }
  ]
}